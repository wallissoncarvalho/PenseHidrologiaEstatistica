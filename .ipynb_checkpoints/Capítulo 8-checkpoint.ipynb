{
 "cells": [
  {
   "cell_type": "markdown",
   "metadata": {},
   "source": [
    "# Estimação"
   ]
  },
  {
   "cell_type": "raw",
   "metadata": {},
   "source": [
    "• Em geral, as funções de distribuição de probabilidades depende de um conjunto de parâmetros e váriaveis aleatórias. Para usar essas funções, os parâmetros precisam ser calculados.\n",
    "\n",
    "• O procedimento geral para estimar um parâmetro é obter uma amostra aleatória de uma população e usá-la para estimar os parâmetros."
   ]
  },
  {
   "cell_type": "markdown",
   "metadata": {},
   "source": [
    "<img src=\"estimadoress.png\" width=60%>"
   ]
  },
  {
   "cell_type": "markdown",
   "metadata": {},
   "source": [
    "### Propriedades de um estimador"
   ]
  },
  {
   "cell_type": "raw",
   "metadata": {},
   "source": [
    "• Um estimador ideal deve seguir as 4 características a seguir:\n",
    "    • Imparcialidade: Um estimador de um parâmetro é não-enviesado se o valor esperado da estimativa for igual ao parâmetro.\n",
    "    • Consistência: Um estimador de um parâmetro é considerado consistente se a probabilidade de o estimador diferir do parâmetro por mais que uma constante (ε) se aproxima de 0 à medida que o tamanho da amostra se aproxima do infinito.\n",
    "    • Eficiência: Um estimador é considerado um estimador mais eficiente para um parâmetro se o estimador for imparcial e sua variância for pelo menos tão pequena quanto a do outro estimador.\n",
    "    • Suficiência: Um estimador é considerado um estimador suficiente para um parâmetro se o estimador utiliza todas as informações contidas na amostra e é relevante para o parâmetro."
   ]
  },
  {
   "cell_type": "markdown",
   "metadata": {},
   "source": [
    "#### Principais Estimadores de Parâmetros"
   ]
  },
  {
   "cell_type": "raw",
   "metadata": {},
   "source": [
    "• Método dos momentos (MOM):\n",
    "    •Método de estimação mais simples;\n",
    "    •Qualidade inferior e menos eficientes do que os estimadores de MVS, particularmente para distribuições de três ou mais parâmetros;\n",
    "    •Para pequenas amostras são comparáveis ou até mesmo superiores aos de outros estimadores.\n",
    "•Método dos momentos-L (MML):\n",
    "    •Estimadores de parâmetros comparáveis, em qualidade, àqueles produzidas pelo método da MVS;\n",
    "    •Para pequenas amostras são com alguma freqüência, mais acurados do que os de MVS.\n",
    "•Método da máxima verossimilhança (MVS):\n",
    "    •Considerado o método de estimação mais eficiente para amostras maiores;\n",
    "    •É apenas assintótica, para pequenas amostras os estimadores são de qualidade comparável ou inferior a outros métodos;\n",
    "    •Consistentes, suficientes e assintóticamente sem viés;"
   ]
  },
  {
   "cell_type": "markdown",
   "metadata": {},
   "source": [
    "## Aplicação"
   ]
  },
  {
   "cell_type": "raw",
   "metadata": {},
   "source": [
    "• Caso em questão:\n",
    "A estação 16100000 (CACHOEIRA MORENA) está a jusante da estação 16080000 (UHE Balbina - período de construção 1985-1989)"
   ]
  },
  {
   "cell_type": "code",
   "execution_count": 1,
   "metadata": {},
   "outputs": [],
   "source": [
    "from dados_hidroweb import converte_dados\n",
    "import datetime\n",
    "import pandas as pd\n",
    "import matplotlib.pyplot as plt\n",
    "import numpy as np\n",
    "from scipy.stats import genextreme as gev\n",
    "vazoes=converte_dados('Dados')\n",
    "data_construcao=pd.to_datetime(['31/12/1984'])\n",
    "vazoes=vazoes.loc[:data_construcao[0]]"
   ]
  },
  {
   "cell_type": "code",
   "execution_count": 2,
   "metadata": {},
   "outputs": [],
   "source": [
    "maximas=vazoes.groupby(by=[vazoes.index.year]).max()\n",
    "minimas=vazoes.groupby(by=[vazoes.index.year]).min()"
   ]
  },
  {
   "cell_type": "code",
   "execution_count": 3,
   "metadata": {},
   "outputs": [
    {
     "data": {
      "text/plain": [
       "<matplotlib.axes._subplots.AxesSubplot at 0x1c24ae12cc0>"
      ]
     },
     "execution_count": 3,
     "metadata": {},
     "output_type": "execute_result"
    },
    {
     "data": {
      "image/png": "[encoded data removed]",
      "text/plain": [
       "<Figure size 432x288 with 1 Axes>"
      ]
     },
     "metadata": {
      "needs_background": "light"
     },
     "output_type": "display_data"
    }
   ],
   "source": [
    "maximas.boxplot()\n",
    "minimas.boxplot()"
   ]
  },
  {
   "cell_type": "markdown",
   "metadata": {},
   "source": [
    "### Distribuição Normal"
   ]
  },
  {
   "cell_type": "raw",
   "metadata": {},
   "source": [
    "• Supondo que a média dos dataframes máximas e mínimas sejam as médias da população.\n",
    "• Supondo que a variância dos dataframes máximas e mínimas sejam as variância da população."
   ]
  },
  {
   "cell_type": "code",
   "execution_count": 4,
   "metadata": {},
   "outputs": [
    {
     "name": "stdout",
     "output_type": "stream",
     "text": [
      "Média das máximas 1476.58, desvio padrão das máximas 302.4\n",
      "Média das minimas 98.21, desvio padrão das minimas 72.59\n"
     ]
    }
   ],
   "source": [
    "media_maxima=maximas['16100000'].mean()\n",
    "std_maxima=maximas['16100000'].std(ddof=1)\n",
    "print ('Média das máximas {}, desvio padrão das máximas {}'.format(round(media_maxima,2),round(std_maxima,2)))\n",
    "media_minima=minimas['16100000'].mean()\n",
    "std_minima=minimas['16100000'].std(ddof=1)\n",
    "print ('Média das minimas {}, desvio padrão das minimas {}'.format(round(media_minima,2),round(std_minima,2)))"
   ]
  },
  {
   "cell_type": "code",
   "execution_count": 5,
   "metadata": {},
   "outputs": [],
   "source": [
    "def mse_normal(media_maxima,std_maxima,n=10):\n",
    "    erro_media_maximas=[]\n",
    "    erro_std_maximas=[]\n",
    "    \n",
    "    for i in range(1000):\n",
    "        amostra_maximas=np.random.normal(media_maxima,std_maxima,n)\n",
    "        erro_media_maximas.append((amostra_maximas.mean()-media_maxima)**2)\n",
    "        erro_std_maximas.append((amostra_maximas.std()-std_maxima)**2)\n",
    "\n",
    "    erro_media_maximas=sum(erro_media_maximas)/1000\n",
    "    erro_std_maximas=sum(erro_std_maximas)/1000\n",
    "    print('Erro quadrático médio, para amostras de tamanho n={}, em relação às máximas: Média {}, Desvio Padrão {},'\n",
    "          .format(n,round(erro_media_maximas,2),round(erro_std_maximas,2)))"
   ]
  },
  {
   "cell_type": "code",
   "execution_count": 6,
   "metadata": {},
   "outputs": [
    {
     "name": "stdout",
     "output_type": "stream",
     "text": [
      "Erro quadrático médio, para amostras de tamanho n=10, em relação às máximas: Média 8279.41, Desvio Padrão 4976.09,\n"
     ]
    }
   ],
   "source": [
    "mse_normal(media_maxima,std_maxima)"
   ]
  },
  {
   "cell_type": "code",
   "execution_count": 8,
   "metadata": {},
   "outputs": [
    {
     "name": "stdout",
     "output_type": "stream",
     "text": [
      "Erro quadrático médio, para amostras de tamanho n=1000, em relação às máximas: Média 95.44, Desvio Padrão 46.06,\n"
     ]
    }
   ],
   "source": [
    "mse_normal(media_maxima,std_maxima,1000)"
   ]
  },
  {
   "cell_type": "code",
   "execution_count": 9,
   "metadata": {},
   "outputs": [
    {
     "name": "stdout",
     "output_type": "stream",
     "text": [
      "Erro quadrático médio, para amostras de tamanho n=10000, em relação às máximas: Média 8.8, Desvio Padrão 4.78,\n"
     ]
    }
   ],
   "source": [
    "mse_normal(media_maxima,std_maxima,n=10000)"
   ]
  },
  {
   "cell_type": "markdown",
   "metadata": {},
   "source": [
    "### Distribuição GEV"
   ]
  },
  {
   "cell_type": "raw",
   "metadata": {},
   "source": [
    "• Distribuição recomendada para valores de máxima\n",
    "• Supondo que os parâmetros da distribuição dos dataframes são os parâmetros da amostra"
   ]
  },
  {
   "cell_type": "code",
   "execution_count": 12,
   "metadata": {},
   "outputs": [
    {
     "name": "stdout",
     "output_type": "stream",
     "text": [
      "Parâmetros encontrados: c=1.2, loc=1503.49, scale=360.49\n"
     ]
    }
   ],
   "source": [
    "parameters = gev.fit(maximas['16100000'])\n",
    "print('Parâmetros encontrados: c={}, loc={}, scale={}'\n",
    "      .format(round(parameters[0],2),round(parameters[1],2),round(parameters[2],2)))"
   ]
  },
  {
   "cell_type": "code",
   "execution_count": 13,
   "metadata": {},
   "outputs": [],
   "source": [
    "def mse_gev(parameters,n=10):\n",
    "    error_c=[]\n",
    "    error_loc=[]\n",
    "    error_scale=[]\n",
    "    cm, locm, scalem = parameters\n",
    "    \n",
    "    for i in range(1000):\n",
    "        amostra_maximas=gev.rvs(cm, locm, scalem,n)\n",
    "        parametros_amostra=gev.fit(amostra_maximas)\n",
    "        ca, loca,scalea=parametros_amostra\n",
    "        error_c.append((ca-cm)**2)\n",
    "        error_loc.append((loca-locm)**2)\n",
    "        error_scale.append((scalea-scalem)**2)\n",
    "\n",
    "    error_c=sum(error_c)/1000\n",
    "    error_loc=sum(error_loc)/1000\n",
    "    error_scale=sum(error_scale)/1000\n",
    "    print('Erro quadrático médio, para amostras de tamanho n={}, para: c {}, loc {}, scale {}'\n",
    "          .format(n,round(error_c,2),round(error_loc,2),round(error_scale,2)))"
   ]
  },
  {
   "cell_type": "code",
   "execution_count": 14,
   "metadata": {},
   "outputs": [
    {
     "name": "stdout",
     "output_type": "stream",
     "text": [
      "Erro quadrático médio, para amostras de tamanho n=10, para: c 1.39, loc 23283.81, scale 34380.75\n"
     ]
    }
   ],
   "source": [
    "mse_gev(parameters)"
   ]
  },
  {
   "cell_type": "code",
   "execution_count": 15,
   "metadata": {},
   "outputs": [
    {
     "name": "stdout",
     "output_type": "stream",
     "text": [
      "Erro quadrático médio, para amostras de tamanho n=1000, para: c 0.0, loc 969.74, scale 1263.25\n"
     ]
    }
   ],
   "source": [
    "mse_gev(parameters,1000)"
   ]
  },
  {
   "cell_type": "code",
   "execution_count": 16,
   "metadata": {},
   "outputs": [
    {
     "name": "stdout",
     "output_type": "stream",
     "text": [
      "Erro quadrático médio, para amostras de tamanho n=10000, para: c 0.0, loc 776.74, scale 915.16\n"
     ]
    }
   ],
   "source": [
    "mse_gev(parameters,10000)"
   ]
  }
 ],
 "metadata": {
  "kernelspec": {
   "display_name": "Python 3",
   "language": "python",
   "name": "python3"
  },
  "language_info": {
   "codemirror_mode": {
    "name": "ipython",
    "version": 3
   },
   "file_extension": ".py",
   "mimetype": "text/x-python",
   "name": "python",
   "nbconvert_exporter": "python",
   "pygments_lexer": "ipython3",
   "version": "3.7.2"
  }
 },
 "nbformat": 4,
 "nbformat_minor": 2
}
