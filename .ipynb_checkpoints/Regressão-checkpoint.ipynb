{
 "cells": [
  {
   "cell_type": "markdown",
   "metadata": {},
   "source": [
    "# Regressão"
   ]
  },
  {
   "cell_type": "markdown",
   "metadata": {},
   "source": [
    "## Introdução"
   ]
  },
  {
   "cell_type": "raw",
   "metadata": {},
   "source": [
    "• Para entender uma regressão linear, devemos ter em mente 3 principais informações sobre as Séries de Taylor.\n",
    "\n",
    "    1. Podem ser utilizadas para aproximar qualquer curva.\n",
    "    2. São expressas como polinômios, através da soma de uma série de termos, onde cada termo é o resultado de um produto de um coeficiente com uma potência de x. Cada um desses produtos são tratados como ordem, por exemplo a0 é o termo de ordem zero, a2*x**2 é o termo de segunda ordem.\n",
    "    3. Em muitas aplicações, para obter uma aproximações muito boas, são necessários somente os termos de zero e de primeira ordem, por exemplo y = a0 + a1 * x.\n",
    "\n",
    "• Os modelos lineares podem ser considerados modelos de \"Primeira Ordem\", nos quais os \"termos não lineares\", i.e. termos de segunda ordem ou superiores, são ignorados."
   ]
  },
  {
   "cell_type": "raw",
   "metadata": {},
   "source": [
    "• Os coeficientes dos modelos lineares (y= a0 + a1*x) \n",
    "Para um dado valor de 'x' e parâmetros do modelo 'a0' e 'a1', calculamos um  'y' previsto como sendo 'a0 + a1 * x'\n",
    "Neste caso;\n",
    "    x - > É a variável independente, que muda por conta própria.\n",
    "    y - > É a variável dependente, que muda como uma resposta à mudança de 'x'\n",
    "    a0 -> Parâmetro chamado como coeficiente linear, porque nos da o valor de 'y' quando a reta intercepta a linha vertial em 'x=0'\n",
    "    a1 -> Parâmetro chamado como coeficiente angular, é uma medida de sensibilidade da existência de uma dependência entre as duas variáveis 'x' e 'y'. Ou, em outras palavras, como duas variáveis co-variam: a inclinação dá a quantidade média pela qual a variável dependente muda quando a variável independente muda.\n",
    "    \n",
    "    \n",
    "• Se calcularmos a inclinação a partir de dados reais com variação, os valores de inclinação variarão ao longo do eixo x. Essa variação na inclinação se traduz em uma incerteza em nosso valor \"a1\".\n",
    "\n",
    "• A distância vertical entre o ponto dos dados e a reta é chamada de resíduo [res = yreal - (a0 + a1*x)]. Quando o valor do resíduo é negativo, significa que o ponto está abaixo da reta."
   ]
  },
  {
   "cell_type": "raw",
   "metadata": {},
   "source": [
    "• A escolha mais comum para definir a reta que melhor se adequa aos dados, é aquela para a qual a soma dos quadrados de todos os resíduos é mínima [sum(res**2)]. O processo de obtenção dos parâmetros para o qual a soma dos quadrados dos resíduos é mínima é chamado de Mínimos Quadrados. \n",
    "• Há algumas boas razões para a escolha desse método\n",
    "    1. O quadrado, trata os resíduos positivos e negativos da mesma forma, que é o que geralmente queremos.\n",
    "    2. Quadrado dá mais peso a grandes resíduos, mas não tanto peso para que o maior residual sempre domine.\n",
    "    3. Se os residuais são não-correlacionados e normalmente distribuídos com média 0 e variância constante (mas desconhecida), então o ajuste dos mínimos quadrados também é o estimador de máxima verossimilhança.\n",
    "    4. Os parâmetros a0 e a1 que minimiza o quadrado dos resíduos podem ser calculados de forma eficiente."
   ]
  },
  {
   "cell_type": "markdown",
   "metadata": {},
   "source": [
    "## Regressão Multipla"
   ]
  },
  {
   "cell_type": "raw",
   "metadata": {},
   "source": [
    "• Quanto temos uma relação com mais de uma variável independente, temos uma regressão múltipla.\n",
    "\n",
    "• Se houver mais de uma variável dependente, essa é a regressão multivariada.\n",
    "\n",
    "• Para uma regressão múltipla linear, temos: y= a0 + a1*x1 + a2*x2 + res\n",
    "onde:\n",
    "    x1 - > É uma variável independente, que muda por conta própria.\n",
    "    x2 - > É outra variável independente, que muda por conta própria.\n",
    "    y - > É a variável dependente, que muda como uma resposta à mudança de 'x1' e 'x2'\n",
    "    a0 -> Parâmetro chamado como coeficiente linear, porque nos da o valor de 'y' quando a reta intercepta a linha vertial em 'x1=0' e 'x2=0  ('Intercept')\n",
    "    a1 -> Parâmetro associado à x1\n",
    "    a2 -> Parâmetro associado à x2"
   ]
  },
  {
   "cell_type": "markdown",
   "metadata": {},
   "source": [
    "### Importando os Dados"
   ]
  },
  {
   "cell_type": "code",
   "execution_count": 4,
   "metadata": {},
   "outputs": [],
   "source": [
    "from dados_hidroweb import converte_dados\n",
    "import datetime\n",
    "import pandas as pd\n",
    "import matplotlib.pyplot as plt\n",
    "import numpy as np\n",
    "import warnings\n",
    "warnings.filterwarnings('ignore')\n",
    "dados=converte_dados('Dados')\n",
    "data_construcao=pd.to_datetime(['31/12/1984'])\n",
    "dados=dados.loc[:data_construcao[0]]\n",
    "#vazoes=vazoes.dropna(subset=['16080000','16100000',])\n",
    "#16100000 - Jusante ('Vazão')\n",
    "#16080000 - Montante('Vazão')\n",
    "#00160000 - Chuva\n",
    "#00259000 - Chuva"
   ]
  },
  {
   "cell_type": "code",
   "execution_count": 56,
   "metadata": {},
   "outputs": [
    {
     "data": {
      "text/html": [
       "<div>\n",
       "<style scoped>\n",
       "    .dataframe tbody tr th:only-of-type {\n",
       "        vertical-align: middle;\n",
       "    }\n",
       "\n",
       "    .dataframe tbody tr th {\n",
       "        vertical-align: top;\n",
       "    }\n",
       "\n",
       "    .dataframe thead th {\n",
       "        text-align: right;\n",
       "    }\n",
       "</style>\n",
       "<table border=\"1\" class=\"dataframe\">\n",
       "  <thead>\n",
       "    <tr style=\"text-align: right;\">\n",
       "      <th></th>\n",
       "      <th>Jusante</th>\n",
       "      <th>Montante</th>\n",
       "      <th>Prec</th>\n",
       "      <th>Prec2</th>\n",
       "    </tr>\n",
       "  </thead>\n",
       "  <tbody>\n",
       "    <tr>\n",
       "      <th>1977-03-31</th>\n",
       "      <td>696.564516</td>\n",
       "      <td>666.535900</td>\n",
       "      <td>0.0</td>\n",
       "      <td>267.1</td>\n",
       "    </tr>\n",
       "    <tr>\n",
       "      <th>1977-04-30</th>\n",
       "      <td>1188.665000</td>\n",
       "      <td>1089.965533</td>\n",
       "      <td>0.0</td>\n",
       "      <td>239.2</td>\n",
       "    </tr>\n",
       "    <tr>\n",
       "      <th>1977-05-31</th>\n",
       "      <td>1454.714516</td>\n",
       "      <td>1207.852032</td>\n",
       "      <td>13.5</td>\n",
       "      <td>356.8</td>\n",
       "    </tr>\n",
       "    <tr>\n",
       "      <th>1977-06-30</th>\n",
       "      <td>1264.381667</td>\n",
       "      <td>850.276667</td>\n",
       "      <td>221.6</td>\n",
       "      <td>106.9</td>\n",
       "    </tr>\n",
       "    <tr>\n",
       "      <th>1977-07-31</th>\n",
       "      <td>748.698387</td>\n",
       "      <td>533.663452</td>\n",
       "      <td>106.3</td>\n",
       "      <td>72.3</td>\n",
       "    </tr>\n",
       "  </tbody>\n",
       "</table>\n",
       "</div>"
      ],
      "text/plain": [
       "                Jusante     Montante   Prec  Prec2\n",
       "1977-03-31   696.564516   666.535900    0.0  267.1\n",
       "1977-04-30  1188.665000  1089.965533    0.0  239.2\n",
       "1977-05-31  1454.714516  1207.852032   13.5  356.8\n",
       "1977-06-30  1264.381667   850.276667  221.6  106.9\n",
       "1977-07-31   748.698387   533.663452  106.3   72.3"
      ]
     },
     "execution_count": 56,
     "metadata": {},
     "output_type": "execute_result"
    }
   ],
   "source": [
    "dados_chuva = pd.Series(dados['00160000'].groupby(pd.Grouper(freq='M')).sum(), name='Prec')\n",
    "dados_chuva2 = pd.Series(dados['00259000'].groupby(pd.Grouper(freq='M')).sum(), name='Prec2')\n",
    "dados_vazao_jus = pd.Series(dados['16100000'].groupby(pd.Grouper(freq='M')).mean(), name='Jusante') \n",
    "dados_vazao_mont = pd.Series(dados['16080000'].groupby(pd.Grouper(freq='M')).mean(), name='Montante')\n",
    "dados_month = pd.DataFrame([dados_vazao_jus, dados_vazao_mont, dados_chuva,dados_chuva2]).T\n",
    "dados_month=dados_month.dropna(subset=['Prec','Jusante','Montante','Prec2'])\n",
    "dados_month.head()"
   ]
  },
  {
   "cell_type": "markdown",
   "metadata": {},
   "source": [
    "#### Jusante - Montante"
   ]
  },
  {
   "cell_type": "code",
   "execution_count": 57,
   "metadata": {},
   "outputs": [
    {
     "name": "stdout",
     "output_type": "stream",
     "text": [
      "                            OLS Regression Results                            \n",
      "==============================================================================\n",
      "Dep. Variable:                Jusante   R-squared:                       0.958\n",
      "Model:                            OLS   Adj. R-squared:                  0.957\n",
      "Method:                 Least Squares   F-statistic:                     2092.\n",
      "Date:                Thu, 13 Jun 2019   Prob (F-statistic):           4.54e-65\n",
      "Time:                        11:40:48   Log-Likelihood:                -544.31\n",
      "No. Observations:                  94   AIC:                             1093.\n",
      "Df Residuals:                      92   BIC:                             1098.\n",
      "Df Model:                           1                                         \n",
      "Covariance Type:            nonrobust                                         \n",
      "==============================================================================\n",
      "                 coef    std err          t      P>|t|      [0.025      0.975]\n",
      "------------------------------------------------------------------------------\n",
      "Intercept     -8.0573     14.170     -0.569      0.571     -36.200      20.085\n",
      "Montante       1.1828      0.026     45.738      0.000       1.131       1.234\n",
      "==============================================================================\n",
      "Omnibus:                       76.065   Durbin-Watson:                   1.103\n",
      "Prob(Omnibus):                  0.000   Jarque-Bera (JB):              467.107\n",
      "Skew:                           2.670   Prob(JB):                    3.71e-102\n",
      "Kurtosis:                      12.526   Cond. No.                         941.\n",
      "==============================================================================\n",
      "\n",
      "Warnings:\n",
      "[1] Standard Errors assume that the covariance matrix of the errors is correctly specified.\n"
     ]
    }
   ],
   "source": [
    "import statsmodels.formula.api as smf\n",
    "formula = \"Jusante ~ Montante\" #o operador ~ separa a variável dependente à esquerda das variáveis independentes à direita\n",
    "model = smf.ols(formula, data=dados_month) #Pega a string fórmula, e o dataframe dos dados e fornece um objeto de \n",
    "                                     #\"Mínimos quadrados ordinários.\" (OLS) que representa o modelo\n",
    "results=model.fit() # Ajusta o modelo aos dados e retorna um objeto RegressionResults que contém os resultados.\n",
    "print(results.summary())"
   ]
  },
  {
   "cell_type": "raw",
   "metadata": {},
   "source": [
    "O valor de p associado à Montante é 4.54e-65.\n",
    "Os resultados também fornecem f_pvalue, que é o valor p associado ao modelo como um todo, semelhante a testar se R2 é estatisticamente significativo.\n",
    "E os resultados fornecem resid, uma sequência de residuais e valores ajustados, uma sequência de valores ajustados correspondentes à Montante."
   ]
  },
  {
   "cell_type": "code",
   "execution_count": 58,
   "metadata": {},
   "outputs": [
    {
     "name": "stdout",
     "output_type": "stream",
     "text": [
      "Intercept: -8.06 \n",
      "Slope: 1.18\n"
     ]
    }
   ],
   "source": [
    "intercept = results.params['Intercept']\n",
    "slope = results.params['Montante']\n",
    "print('Intercept: {} \\nSlope: {}'.format(round(intercept,2),round(slope,2)))"
   ]
  },
  {
   "cell_type": "code",
   "execution_count": 59,
   "metadata": {},
   "outputs": [],
   "source": [
    "intercept=results.params['Intercept']\n",
    "slope=results.params['Montante']"
   ]
  },
  {
   "cell_type": "code",
   "execution_count": 60,
   "metadata": {},
   "outputs": [
    {
     "data": {
      "image/png": "[encoded data removed]",
      "text/plain": [
       "<Figure size 432x288 with 1 Axes>"
      ]
     },
     "metadata": {
      "needs_background": "light"
     },
     "output_type": "display_data"
    }
   ],
   "source": [
    "x = dados_month['Montante']\n",
    "y = dados_month['Jusante']\n",
    "\n",
    "# Generate theoretical x and y data: x_theor, y_theor\n",
    "x_theor = np.array([x.min(), x.max()])\n",
    "y_theor = x_theor *slope + intercept\n",
    "\n",
    "# Plot the Anscombe data and theoretical line\n",
    "_ = plt.plot(x, y, marker='.', linestyle='none')\n",
    "_ = plt.plot(x_theor, y_theor, marker=' ', linestyle='-')\n",
    "\n",
    "# Label the axes\n",
    "plt.xlabel('Montante')\n",
    "plt.ylabel('Jusante')\n",
    "\n",
    "# Show the plot\n",
    "plt.show()"
   ]
  },
  {
   "cell_type": "markdown",
   "metadata": {},
   "source": [
    "#### Chuva - Vazão"
   ]
  },
  {
   "cell_type": "code",
   "execution_count": 62,
   "metadata": {},
   "outputs": [
    {
     "name": "stdout",
     "output_type": "stream",
     "text": [
      "                            OLS Regression Results                            \n",
      "==============================================================================\n",
      "Dep. Variable:               Montante   R-squared:                       0.225\n",
      "Model:                            OLS   Adj. R-squared:                  0.216\n",
      "Method:                 Least Squares   F-statistic:                     26.68\n",
      "Date:                Thu, 13 Jun 2019   Prob (F-statistic):           1.39e-06\n",
      "Time:                        11:41:06   Log-Likelihood:                -663.39\n",
      "No. Observations:                  94   AIC:                             1331.\n",
      "Df Residuals:                      92   BIC:                             1336.\n",
      "Df Model:                           1                                         \n",
      "Covariance Type:            nonrobust                                         \n",
      "==============================================================================\n",
      "                 coef    std err          t      P>|t|      [0.025      0.975]\n",
      "------------------------------------------------------------------------------\n",
      "Intercept    191.5919     57.209      3.349      0.001      77.969     305.214\n",
      "Prec2          1.5019      0.291      5.165      0.000       0.924       2.079\n",
      "==============================================================================\n",
      "Omnibus:                        5.641   Durbin-Watson:                   0.591\n",
      "Prob(Omnibus):                  0.060   Jarque-Bera (JB):                5.691\n",
      "Skew:                           0.598   Prob(JB):                       0.0581\n",
      "Kurtosis:                       2.851   Cond. No.                         384.\n",
      "==============================================================================\n",
      "\n",
      "Warnings:\n",
      "[1] Standard Errors assume that the covariance matrix of the errors is correctly specified.\n"
     ]
    }
   ],
   "source": [
    "import statsmodels.formula.api as smf\n",
    "formula = \"Montante ~ Prec2\" #o operador ~ separa a variável dependente à esquerda das variáveis independentes à direita\n",
    "model = smf.ols(formula, data=dados_month) #Pega a string fórmula, e o dataframe dos dados e fornece um objeto de \n",
    "                                     #\"Mínimos quadrados ordinários.\" (OLS) que representa o modelo\n",
    "results=model.fit() # Ajusta o modelo aos dados e retorna um objeto RegressionResults que contém os resultados.\n",
    "print(results.summary())"
   ]
  },
  {
   "cell_type": "markdown",
   "metadata": {},
   "source": [
    "## Múltipla"
   ]
  },
  {
   "cell_type": "code",
   "execution_count": 63,
   "metadata": {},
   "outputs": [
    {
     "name": "stdout",
     "output_type": "stream",
     "text": [
      "                            OLS Regression Results                            \n",
      "==============================================================================\n",
      "Dep. Variable:                Jusante   R-squared:                       0.965\n",
      "Model:                            OLS   Adj. R-squared:                  0.964\n",
      "Method:                 Least Squares   F-statistic:                     827.7\n",
      "Date:                Thu, 13 Jun 2019   Prob (F-statistic):           2.22e-65\n",
      "Time:                        11:41:23   Log-Likelihood:                -535.57\n",
      "No. Observations:                  94   AIC:                             1079.\n",
      "Df Residuals:                      90   BIC:                             1089.\n",
      "Df Model:                           3                                         \n",
      "Covariance Type:            nonrobust                                         \n",
      "==============================================================================\n",
      "                 coef    std err          t      P>|t|      [0.025      0.975]\n",
      "------------------------------------------------------------------------------\n",
      "Intercept     34.4808     16.761      2.057      0.043       1.181      67.780\n",
      "Montante       1.2419      0.028     44.986      0.000       1.187       1.297\n",
      "Prec          -0.0872      0.083     -1.046      0.298      -0.253       0.078\n",
      "Prec2         -0.3108      0.096     -3.230      0.002      -0.502      -0.120\n",
      "==============================================================================\n",
      "Omnibus:                       56.315   Durbin-Watson:                   1.232\n",
      "Prob(Omnibus):                  0.000   Jarque-Bera (JB):              216.752\n",
      "Skew:                           2.012   Prob(JB):                     8.57e-48\n",
      "Kurtosis:                       9.256   Cond. No.                     1.33e+03\n",
      "==============================================================================\n",
      "\n",
      "Warnings:\n",
      "[1] Standard Errors assume that the covariance matrix of the errors is correctly specified.\n",
      "[2] The condition number is large, 1.33e+03. This might indicate that there are\n",
      "strong multicollinearity or other numerical problems.\n"
     ]
    }
   ],
   "source": [
    "formula = \"Jusante ~ Montante + Prec + Prec2\"\n",
    "model = smf.ols(formula, data=dados_month)\n",
    "results=model.fit()\n",
    "print(results.summary())"
   ]
  },
  {
   "cell_type": "code",
   "execution_count": 65,
   "metadata": {},
   "outputs": [],
   "source": [
    "intercept = results.params['Intercept']\n",
    "slope1 = results.params['Montante']\n",
    "slope2 = results.params['Prec']\n",
    "slope3 = results.params['Prec2']"
   ]
  },
  {
   "cell_type": "code",
   "execution_count": 66,
   "metadata": {},
   "outputs": [
    {
     "data": {
      "image/png": "[encoded data removed]",
      "text/plain": [
       "<Figure size 432x288 with 1 Axes>"
      ]
     },
     "metadata": {
      "needs_background": "light"
     },
     "output_type": "display_data"
    }
   ],
   "source": [
    "x = dados_month['Montante']\n",
    "y = dados_month['Jusante']\n",
    "z = dados_month['Prec']\n",
    "w = dados_month['Prec2']\n",
    "\n",
    "# Generate theoretical x and y data: x_theor, y_theor\n",
    "x_theor = np.sort(x)\n",
    "z_theor = np.sort(z)\n",
    "w_theor = np.sort(w)\n",
    "y_theor = x_theor *slope1 + z_theor*slope2 + w_theor*slope3 + intercept\n",
    "\n",
    "# Plot the Anscombe data and theoretical line\n",
    "_ = plt.plot(x, y, marker='.', linestyle='none')\n",
    "_ = plt.plot(x_theor, y_theor, marker=' ', linestyle='-')\n",
    "\n",
    "# Label the axes\n",
    "plt.xlabel('Montante')\n",
    "plt.ylabel('Jusante')\n",
    "\n",
    "# Show the plot\n",
    "plt.show()"
   ]
  },
  {
   "cell_type": "markdown",
   "metadata": {},
   "source": [
    "## Relações Não Lineares"
   ]
  },
  {
   "cell_type": "code",
   "execution_count": 72,
   "metadata": {},
   "outputs": [
    {
     "name": "stdout",
     "output_type": "stream",
     "text": [
      "                            OLS Regression Results                            \n",
      "==============================================================================\n",
      "Dep. Variable:               Montante   R-squared:                       0.275\n",
      "Model:                            OLS   Adj. R-squared:                  0.259\n",
      "Method:                 Least Squares   F-statistic:                     17.28\n",
      "Date:                Thu, 13 Jun 2019   Prob (F-statistic):           4.34e-07\n",
      "Time:                        11:44:11   Log-Likelihood:                -660.22\n",
      "No. Observations:                  94   AIC:                             1326.\n",
      "Df Residuals:                      91   BIC:                             1334.\n",
      "Df Model:                           2                                         \n",
      "Covariance Type:            nonrobust                                         \n",
      "==============================================================================\n",
      "                 coef    std err          t      P>|t|      [0.025      0.975]\n",
      "------------------------------------------------------------------------------\n",
      "Intercept    198.7217     55.689      3.568      0.001      88.103     309.340\n",
      "Prec2          1.0085      0.344      2.932      0.004       0.325       1.692\n",
      "Prec_Quad      0.0016      0.001      2.519      0.014       0.000       0.003\n",
      "==============================================================================\n",
      "Omnibus:                        8.206   Durbin-Watson:                   0.570\n",
      "Prob(Omnibus):                  0.017   Jarque-Bera (JB):                8.134\n",
      "Skew:                           0.714   Prob(JB):                       0.0171\n",
      "Kurtosis:                       3.197   Cond. No.                     1.42e+05\n",
      "==============================================================================\n",
      "\n",
      "Warnings:\n",
      "[1] Standard Errors assume that the covariance matrix of the errors is correctly specified.\n",
      "[2] The condition number is large, 1.42e+05. This might indicate that there are\n",
      "strong multicollinearity or other numerical problems.\n"
     ]
    }
   ],
   "source": [
    "dados_month['Prec_Quad']=dados_month['Prec']**2\n",
    "dados_month['Prec_Quad2']=dados_month['Prec2']**2\n",
    "formula = \"Montante ~ Prec2 + Prec_Quad\"\n",
    "model = smf.ols(formula, data=dados_month)\n",
    "results=model.fit()\n",
    "print(results.summary())"
   ]
  },
  {
   "cell_type": "markdown",
   "metadata": {},
   "source": [
    "## Mineração dos Dados"
   ]
  },
  {
   "cell_type": "raw",
   "metadata": {},
   "source": [
    "• Para uma boa análise de regressão, é importante selecionar os conjuntos de variáveis independentes que farão parte do modelo; \n",
    "\n",
    "• A variável dependente, deve utilizar o menor número de váriaveis independentes possível;\n",
    "Selecionar um conjutos apropriados de regressores;\n",
    "\n",
    "• Passos para verificação:\n",
    "    • Identificar a correlação entre as variáveis;\n",
    "    • Filtrar o conjunto de dados com maior falhas;"
   ]
  },
  {
   "cell_type": "code",
   "execution_count": null,
   "metadata": {},
   "outputs": [],
   "source": []
  },
  {
   "cell_type": "markdown",
   "metadata": {},
   "source": [
    "## Predição"
   ]
  },
  {
   "cell_type": "code",
   "execution_count": 76,
   "metadata": {},
   "outputs": [
    {
     "name": "stdout",
     "output_type": "stream",
     "text": [
      "                            OLS Regression Results                            \n",
      "==============================================================================\n",
      "Dep. Variable:                Jusante   R-squared:                       0.947\n",
      "Model:                            OLS   Adj. R-squared:                  0.947\n",
      "Method:                 Least Squares   F-statistic:                 1.552e+04\n",
      "Date:                Thu, 13 Jun 2019   Prob (F-statistic):               0.00\n",
      "Time:                        11:59:26   Log-Likelihood:                -15506.\n",
      "No. Observations:                2618   AIC:                         3.102e+04\n",
      "Df Residuals:                    2614   BIC:                         3.104e+04\n",
      "Df Model:                           3                                         \n",
      "Covariance Type:            nonrobust                                         \n",
      "==============================================================================\n",
      "                 coef    std err          t      P>|t|      [0.025      0.975]\n",
      "------------------------------------------------------------------------------\n",
      "Intercept      5.5416      2.975      1.863      0.063      -0.292      11.376\n",
      "Montante       1.1617      0.005    213.101      0.000       1.151       1.172\n",
      "Prec          -0.2171      0.148     -1.463      0.144      -0.508       0.074\n",
      "Prec2         -0.3964      0.158     -2.510      0.012      -0.706      -0.087\n",
      "==============================================================================\n",
      "Omnibus:                     1436.891   Durbin-Watson:                   0.069\n",
      "Prob(Omnibus):                  0.000   Jarque-Bera (JB):            13180.414\n",
      "Skew:                           2.457   Prob(JB):                         0.00\n",
      "Kurtosis:                      12.833   Cond. No.                         902.\n",
      "==============================================================================\n",
      "\n",
      "Warnings:\n",
      "[1] Standard Errors assume that the covariance matrix of the errors is correctly specified.\n"
     ]
    }
   ],
   "source": [
    "dados['Jusante']=dados['16100000']\n",
    "dados['Montante']=dados['16080000']\n",
    "dados['Prec']=dados['00160000']\n",
    "dados['Prec2']=dados['00259000']\n",
    "formula = \"Jusante ~ Montante + Prec + Prec2\"\n",
    "model = smf.ols(formula, data=dados)\n",
    "results=model.fit()\n",
    "print(results.summary())"
   ]
  },
  {
   "cell_type": "code",
   "execution_count": 77,
   "metadata": {},
   "outputs": [],
   "source": [
    "intercept = results.params['Intercept']\n",
    "slope1 = results.params['Montante']\n",
    "slope2 = results.params['Prec']\n",
    "slope3 = results.params['Prec2']"
   ]
  },
  {
   "cell_type": "code",
   "execution_count": 78,
   "metadata": {},
   "outputs": [
    {
     "data": {
      "image/png": "[encoded data removed]",
      "text/plain": [
       "<Figure size 432x288 with 1 Axes>"
      ]
     },
     "metadata": {
      "needs_background": "light"
     },
     "output_type": "display_data"
    }
   ],
   "source": [
    "x = dados['Montante']\n",
    "y = dados['Jusante']\n",
    "z = dados['Prec']\n",
    "w = dados['Prec2']\n",
    "\n",
    "# Generate theoretical x and y data: x_theor, y_theor\n",
    "x_theor = np.sort(x)\n",
    "z_theor = np.sort(z)\n",
    "w_theor = np.sort(w)\n",
    "y_theor = x_theor *slope1 + z_theor*slope2 + w_theor*slope3 + intercept\n",
    "\n",
    "# Plot the Anscombe data and theoretical line\n",
    "_ = plt.plot(x, y, marker='.', linestyle='none')\n",
    "_ = plt.plot(x_theor, y_theor, marker=' ', linestyle='-')\n",
    "\n",
    "# Label the axes\n",
    "plt.xlabel('Montante')\n",
    "plt.ylabel('Jusante')\n",
    "\n",
    "# Show the plot\n",
    "plt.show()"
   ]
  },
  {
   "cell_type": "code",
   "execution_count": 80,
   "metadata": {},
   "outputs": [
    {
     "name": "stdout",
     "output_type": "stream",
     "text": [
      "Valor-p Montante =0.0 \n",
      "Valor-p Prec=0.14 \n",
      "Valor-p Prec2=0.01\n"
     ]
    }
   ],
   "source": [
    "slope1_pvalue = results.pvalues['Montante']\n",
    "slope2_pvalue = results.pvalues['Prec']\n",
    "slope3_pvalue = results.pvalues['Prec2']\n",
    "print('Valor-p Montante ={} \\nValor-p Prec={} \\nValor-p Prec2={}'\n",
    "      .format(round(slope1_pvalue,2),round(slope2_pvalue,2),round(slope3_pvalue,2)))"
   ]
  },
  {
   "cell_type": "code",
   "execution_count": 81,
   "metadata": {},
   "outputs": [],
   "source": [
    "intercept = results.params['Intercept']\n",
    "slope1 = results.params['Montante']\n",
    "slope2 = results.params['Prec']\n",
    "slope3 = results.params['Prec2']\n",
    "dados['Jusante_Calc']= dados['Montante']*slope1 + dados['Prec']*slope2 + dados['Prec2']*slope3 + intercept"
   ]
  },
  {
   "cell_type": "code",
   "execution_count": 82,
   "metadata": {},
   "outputs": [
    {
     "data": {
      "text/plain": [
       "<matplotlib.axes._subplots.AxesSubplot at 0x195f2575198>"
      ]
     },
     "execution_count": 82,
     "metadata": {},
     "output_type": "execute_result"
    },
    {
     "data": {
      "image/png": "[encoded data removed]",
      "text/plain": [
       "<Figure size 432x288 with 1 Axes>"
      ]
     },
     "metadata": {
      "needs_background": "light"
     },
     "output_type": "display_data"
    }
   ],
   "source": [
    "dados['Jusante'].plot(legend=True)\n",
    "dados['Jusante_Calc'].plot(legend=True)"
   ]
  },
  {
   "cell_type": "markdown",
   "metadata": {},
   "source": [
    "## Regressão Logística"
   ]
  },
  {
   "cell_type": "raw",
   "metadata": {},
   "source": [
    "A regressão linear lidar com diferentes tipos de variáveis dependentes. Como por exemplo:\n",
    "    -Regressão logística: Variável dependente for booleana (Ex: Choveu esse mês?)\n",
    "    -Regressão de Poisson: Variável dependente é uma contagem inteira (Ex: Número de dias de chuva no mês)\n",
    "\n",
    "Variáveis qualitativas ou indicativas;"
   ]
  }
 ],
 "metadata": {
  "kernelspec": {
   "display_name": "Python 3",
   "language": "python",
   "name": "python3"
  },
  "language_info": {
   "codemirror_mode": {
    "name": "ipython",
    "version": 3
   },
   "file_extension": ".py",
   "mimetype": "text/x-python",
   "name": "python",
   "nbconvert_exporter": "python",
   "pygments_lexer": "ipython3",
   "version": "3.7.2"
  }
 },
 "nbformat": 4,
 "nbformat_minor": 2
}
