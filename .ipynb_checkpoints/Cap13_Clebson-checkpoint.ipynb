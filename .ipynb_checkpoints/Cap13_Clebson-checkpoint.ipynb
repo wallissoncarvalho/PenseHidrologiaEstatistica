{
 "cells": [
  {
   "cell_type": "markdown",
   "metadata": {},
   "source": [
    "# Análise de sobrevivência - Pense Estatística, 2º Edição.\n",
    "\n",
    "## Universidade Federal de Alagoas - UFAL\n",
    "## Centro de Tecnologia - CTEC\n",
    "## Programa de Pós-Graduação Recursos Hídricos e Saneamento - PPGRHS\n",
    "### Disciplina de Estatística\n",
    "\n",
    "Clebson Farias"
   ]
  },
  {
   "cell_type": "code",
   "execution_count": 1,
   "metadata": {},
   "outputs": [],
   "source": [
    "from __future__ import print_function, division\n",
    "\n",
    "%matplotlib inline\n",
    "\n",
    "import numpy as np\n",
    "import pandas as pd\n",
    "import scipy.stats as stats\n",
    "import matplotlib.pyplot as plt\n",
    "import random\n",
    "\n",
    "import thinkstats2\n",
    "import thinkplot"
   ]
  },
  {
   "cell_type": "markdown",
   "metadata": {},
   "source": [
    "A **análise de sobrevivência** é uma forma de descrever quanto tempo as coisas duram.\n",
    "- Estudar vidas humanas;\n",
    "- Sobrevivência de componentes mecânicos e eletrônicos;\n",
    "- **Intervalos no tempo** antes de um evento."
   ]
  },
  {
   "cell_type": "markdown",
   "metadata": {},
   "source": [
    "## Curvas de sobrevivência"
   ]
  },
  {
   "cell_type": "markdown",
   "metadata": {},
   "source": [
    "Fundamental para análise de sobrevivência;\n",
    "Sua função mapeia desde a duração, t, até à probabilidade de sobrevivência ser superior a t;\n",
    "A curva de sobrevivência é o complemento da CDF (distribuição da duração); \n",
    "\\begin{equation}\n",
    "    S(t) = 1 - CDF(t)\n",
    "\\end{equation}\n",
    "- $S(t)$ é Curva de sobrevivência\n",
    "- $CDF(t)$ é a probabilidade de um tempo de vida inferior ou igual a t."
   ]
  },
  {
   "cell_type": "code",
   "execution_count": 2,
   "metadata": {},
   "outputs": [
    {
     "data": {
      "text/html": [
       "<div>\n",
       "<style scoped>\n",
       "    .dataframe tbody tr th:only-of-type {\n",
       "        vertical-align: middle;\n",
       "    }\n",
       "\n",
       "    .dataframe tbody tr th {\n",
       "        vertical-align: top;\n",
       "    }\n",
       "\n",
       "    .dataframe thead th {\n",
       "        text-align: right;\n",
       "    }\n",
       "</style>\n",
       "<table border=\"1\" class=\"dataframe\">\n",
       "  <thead>\n",
       "    <tr style=\"text-align: right;\">\n",
       "      <th></th>\n",
       "      <th>COIMBRA_P</th>\n",
       "      <th>MANSO_JUS</th>\n",
       "      <th>COIMBRA_F</th>\n",
       "      <th>MANSO</th>\n",
       "    </tr>\n",
       "  </thead>\n",
       "  <tbody>\n",
       "    <tr>\n",
       "      <th>1931-01-01</th>\n",
       "      <td>NaN</td>\n",
       "      <td>NaN</td>\n",
       "      <td>NaN</td>\n",
       "      <td>NaN</td>\n",
       "    </tr>\n",
       "    <tr>\n",
       "      <th>1931-01-02</th>\n",
       "      <td>NaN</td>\n",
       "      <td>NaN</td>\n",
       "      <td>NaN</td>\n",
       "      <td>NaN</td>\n",
       "    </tr>\n",
       "    <tr>\n",
       "      <th>1931-01-03</th>\n",
       "      <td>NaN</td>\n",
       "      <td>NaN</td>\n",
       "      <td>NaN</td>\n",
       "      <td>NaN</td>\n",
       "    </tr>\n",
       "    <tr>\n",
       "      <th>1931-01-04</th>\n",
       "      <td>NaN</td>\n",
       "      <td>NaN</td>\n",
       "      <td>NaN</td>\n",
       "      <td>NaN</td>\n",
       "    </tr>\n",
       "    <tr>\n",
       "      <th>1931-01-05</th>\n",
       "      <td>NaN</td>\n",
       "      <td>NaN</td>\n",
       "      <td>NaN</td>\n",
       "      <td>NaN</td>\n",
       "    </tr>\n",
       "  </tbody>\n",
       "</table>\n",
       "</div>"
      ],
      "text/plain": [
       "            COIMBRA_P  MANSO_JUS  COIMBRA_F  MANSO\n",
       "1931-01-01        NaN        NaN        NaN    NaN\n",
       "1931-01-02        NaN        NaN        NaN    NaN\n",
       "1931-01-03        NaN        NaN        NaN    NaN\n",
       "1931-01-04        NaN        NaN        NaN    NaN\n",
       "1931-01-05        NaN        NaN        NaN    NaN"
      ]
     },
     "execution_count": 2,
     "metadata": {},
     "output_type": "execute_result"
    }
   ],
   "source": [
    "dados = pd.read_csv(\"manso.csv\", index_col=0, parse_dates=True, )\n",
    "dados.rename(index=str, \n",
    "             columns={\"1455008\": \"COIMBRA_P\", \"66210000\": \"MANSO_JUS\", \"66231000\": \"COIMBRA_F\"}, \n",
    "             inplace=True)\n",
    "dados.index = pd.to_datetime(dados.index, errors='coerce')\n",
    "dados.head()"
   ]
  },
  {
   "cell_type": "code",
   "execution_count": 3,
   "metadata": {},
   "outputs": [
    {
     "data": {
      "text/plain": [
       "1982-01-01    243.0\n",
       "1982-01-02    329.0\n",
       "1982-01-03    290.0\n",
       "1982-01-04    300.0\n",
       "1982-01-05    386.0\n",
       "Name: MANSO, dtype: float64"
      ]
     },
     "execution_count": 3,
     "metadata": {},
     "output_type": "execute_result"
    }
   ],
   "source": [
    "date_start = pd.to_datetime(\"01/01/1982\", dayfirst=True)\n",
    "date_end = pd.to_datetime(\"31/12/1986\", dayfirst=True)\n",
    "dados_nat = dados.MANSO.loc[date_start:date_end]\n",
    "dados_nat.head()"
   ]
  },
  {
   "cell_type": "code",
   "execution_count": 4,
   "metadata": {},
   "outputs": [
    {
     "name": "stdout",
     "output_type": "stream",
     "text": [
      "CDF: 0.8773274917853231 \n",
      "SF: 0.1226725082146769\n"
     ]
    }
   ],
   "source": [
    "import survival\n",
    "cdf_nat = thinkstats2.Cdf(dados_nat, label='cdf')\n",
    "sf = survival.MakeSurvivalFromCdf(cdf_nat, label='survival')\n",
    "sf[328]\n",
    "print('CDF:', cdf_nat[329], '\\nSF:', sf[329])"
   ]
  },
  {
   "cell_type": "code",
   "execution_count": 42,
   "metadata": {},
   "outputs": [
    {
     "data": {
      "image/png": "[encoded data removed]",
      "text/plain": [
       "<Figure size 432x288 with 1 Axes>"
      ]
     },
     "metadata": {
      "needs_background": "light"
     },
     "output_type": "display_data"
    }
   ],
   "source": [
    "thinkplot.Plot(sf)\n",
    "thinkplot.Cdf(cdf_nat, alpha=0.2)\n",
    "thinkplot.Config(loc='center right')"
   ]
  },
  {
   "cell_type": "markdown",
   "metadata": {},
   "source": [
    "## Função de perigo"
   ]
  },
  {
   "cell_type": "markdown",
   "metadata": {},
   "source": [
    "A partir da curva de sobrevivência podemos derivar a função de perigo;\n",
    "\n",
    "\\begin{equation}\n",
    "    \\lambda(t) = \\frac{S(t)-S(t+1)}{S(t)}\n",
    "\\end{equation}\n",
    "\n",
    "$PMF(t) = S(t)-S(t+1)$\n",
    "\n"
   ]
  },
  {
   "cell_type": "markdown",
   "metadata": {},
   "source": [
    "Função de perigo modela quais períodos têm as maiores ou menores chances de um evento;"
   ]
  },
  {
   "cell_type": "code",
   "execution_count": 6,
   "metadata": {},
   "outputs": [
    {
     "data": {
      "text/plain": [
       "0.24999999999996197"
      ]
     },
     "execution_count": 6,
     "metadata": {},
     "output_type": "execute_result"
    }
   ],
   "source": [
    "hf = sf.MakeHazardFunction(label='hazard')\n",
    "hf[1157]"
   ]
  },
  {
   "cell_type": "code",
   "execution_count": 22,
   "metadata": {},
   "outputs": [
    {
     "data": {
      "image/png": "[encoded data removed]",
      "text/plain": [
       "<Figure size 432x288 with 1 Axes>"
      ]
     },
     "metadata": {
      "needs_background": "light"
     },
     "output_type": "display_data"
    }
   ],
   "source": [
    "thinkplot.Plot(hf)\n",
    "thinkplot.Config(ylim=[0, 1.05], loc='upper left')"
   ]
  },
  {
   "cell_type": "markdown",
   "metadata": {},
   "source": [
    "## Inferir curvas de sobrevivência"
   ]
  },
  {
   "cell_type": "markdown",
   "metadata": {},
   "source": []
  },
  {
   "cell_type": "markdown",
   "metadata": {},
   "source": [
    "## Estimativa de Kaplan-Meier"
   ]
  },
  {
   "cell_type": "markdown",
   "metadata": {},
   "source": [
    "A ideia geral é que podemos usar os dados para estimar a **função hazard**, depois **converter** a função hazard numa **curva de sobrevivência**."
   ]
  },
  {
   "cell_type": "code",
   "execution_count": 17,
   "metadata": {},
   "outputs": [],
   "source": [
    "from collections import Counter\n",
    "\n",
    "def EstimateMarriageSurvival(dados, limiar):\n",
    "    \n",
    "    complete = dados[dados >= limiar].dropna()\n",
    "    ongoing = dados[dados < limiar]\n",
    "\n",
    "    hf = survival.EstimateHazardFunction(complete, ongoing)\n",
    "    sf = hf.MakeSurvival()\n",
    "\n",
    "    return hf, sf\n",
    "\n",
    "hf1, sf1 = EstimateMarriageSurvival(dados=dados_nat, limiar=500)"
   ]
  },
  {
   "cell_type": "code",
   "execution_count": 18,
   "metadata": {},
   "outputs": [
    {
     "data": {
      "image/png": "[encoded data removed]",
      "text/plain": [
       "<Figure size 432x288 with 1 Axes>"
      ]
     },
     "metadata": {
      "needs_background": "light"
     },
     "output_type": "display_data"
    }
   ],
   "source": [
    "thinkplot.Plot(hf1)\n",
    "thinkplot.Config(xlabel='Vazão',\n",
    "                 ylabel='Hazard')"
   ]
  },
  {
   "cell_type": "markdown",
   "metadata": {},
   "source": [
    "## Estimando a curva de sobrevivência"
   ]
  },
  {
   "cell_type": "code",
   "execution_count": 19,
   "metadata": {},
   "outputs": [
    {
     "data": {
      "image/png": "[encoded data removed]",
      "text/plain": [
       "<Figure size 432x288 with 1 Axes>"
      ]
     },
     "metadata": {
      "needs_background": "light"
     },
     "output_type": "display_data"
    }
   ],
   "source": [
    "sf = hf.MakeSurvival()\n",
    "thinkplot.Plot(sf)\n",
    "thinkplot.Config(xlabel='Age (years)',\n",
    "                 ylabel='Prob unmarried',\n",
    "                 ylim=[0, 1])"
   ]
  },
  {
   "cell_type": "markdown",
   "metadata": {},
   "source": [
    "## Intervalos de confiança"
   ]
  },
  {
   "cell_type": "markdown",
   "metadata": {},
   "source": [
    "Importante quantificar a incerteza da estimativa.\n",
    "\n",
    "- Erro de medição;\n",
    "- Erro de amostragem; \n",
    "- Erro de modelagem.\n",
    "\n",
    "Podemos quantificar o erro de amostragem por reamostragens;\n",
    "\n"
   ]
  },
  {
   "cell_type": "code",
   "execution_count": 36,
   "metadata": {},
   "outputs": [],
   "source": [
    "def ResampleSurvival(dados, limiar, iters=101):\n",
    "    \"\"\"Resamples respondents and estimates the survival function.\n",
    "\n",
    "    resp: DataFrame of respondents\n",
    "    iters: number of resamples\n",
    "    \"\"\" \n",
    "    _, sf = EstimateMarriageSurvival(dados, limiar)\n",
    "    thinkplot.Plot(sf)\n",
    "\n",
    "    low, high = dados.min(), dados.max()\n",
    "    ts = np.arange(low, high, 1)\n",
    "\n",
    "    ss_seq = []\n",
    "    for _ in range(iters):\n",
    "        sample = thinkstats2.ResampleRowsWeighted(pd.DataFrame(dados), column='MANSO')\n",
    "        _, sf = EstimateMarriageSurvival(sample['MANSO'], limiar)\n",
    "        ss_seq.append(sf.Probs(ts))\n",
    "\n",
    "    low, high = thinkstats2.PercentileRows(ss_seq, [5, 95])\n",
    "    thinkplot.FillBetween(ts, low, high, color='gray', label='90% CI')"
   ]
  },
  {
   "cell_type": "code",
   "execution_count": 41,
   "metadata": {},
   "outputs": [
    {
     "data": {
      "image/png": "[encoded data removed]",
      "text/plain": [
       "<Figure size 432x288 with 1 Axes>"
      ]
     },
     "metadata": {
      "needs_background": "light"
     },
     "output_type": "display_data"
    }
   ],
   "source": [
    "ResampleSurvival(dados_nat, 500)\n",
    "thinkplot.Config(xlabel='Vazão',\n",
    "                 ylabel='Prob unmarried',\n",
    "                 xlim=[500, 1600],\n",
    "                 ylim=[0, 1],\n",
    "                 loc='upper right')"
   ]
  },
  {
   "cell_type": "markdown",
   "metadata": {},
   "source": [
    "O intervalo de confiança leva em conta os pesos de amostragem;\n",
    "\n",
    "Os pesos de amostragem têm um efeito substancial na estimativa;"
   ]
  },
  {
   "cell_type": "markdown",
   "metadata": {},
   "source": [
    "## Efeitos de coorte"
   ]
  },
  {
   "cell_type": "markdown",
   "metadata": {},
   "source": [
    "A curva estimada são baseadas em diferentes grupos de respondentes;\n",
    "\n",
    "Podemos investigar esse efeito agrupando os entrevistados;\n",
    "\n"
   ]
  },
  {
   "cell_type": "markdown",
   "metadata": {},
   "source": [
    "## Extrapolação"
   ]
  },
  {
   "cell_type": "markdown",
   "metadata": {},
   "source": [
    "## Vida útil restante esperada"
   ]
  },
  {
   "cell_type": "code",
   "execution_count": null,
   "metadata": {},
   "outputs": [],
   "source": []
  }
 ],
 "metadata": {
  "kernelspec": {
   "display_name": "Python 3",
   "language": "python",
   "name": "python3"
  },
  "language_info": {
   "codemirror_mode": {
    "name": "ipython",
    "version": 3
   },
   "file_extension": ".py",
   "mimetype": "text/x-python",
   "name": "python",
   "nbconvert_exporter": "python",
   "pygments_lexer": "ipython3",
   "version": "3.7.2"
  }
 },
 "nbformat": 4,
 "nbformat_minor": 2
}
