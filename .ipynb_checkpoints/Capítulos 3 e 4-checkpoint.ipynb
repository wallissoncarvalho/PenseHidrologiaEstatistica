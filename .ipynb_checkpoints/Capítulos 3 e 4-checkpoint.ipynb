{
 "cells": [
  {
   "cell_type": "markdown",
   "metadata": {},
   "source": [
    "# FUNÇÕES DE PROBABILIDADE"
   ]
  },
  {
   "cell_type": "markdown",
   "metadata": {},
   "source": [
    "## Teoria Elementar das Probabilidades"
   ]
  },
  {
   "cell_type": "markdown",
   "metadata": {},
   "source": [
    "◘ Modelos Probabilísticos: As condições do experimento não determinam o resultado do experimento, mas sim o comportamento probabilístico do resultado observável.Sempre que o modelo for probabilístico, o experimento será aleatório. \n",
    "\n",
    "◘ Experimentos Aleatórios: Apresentam 3 características. \n",
    "    • pode ser realizado indefinidas vezes;\n",
    "    • embora não se possa afirmar qual o resultado que ocorrerá, em uma realização do experimento, pode-se determinar o conjunto de todos os resultados possíveis;\n",
    "    • se o experimento for realizado um grande número de vezes, poder-se-á notar uma certa regularidade. Essa regularidade é que permitirá que se construa um modelo probabilístico para análise do experimento.\n",
    "    \n",
    "◘ Definição Clássica de Probabilidade: Se um Experimento Aleatório pode resultar em “N” diferentes e Igualmente Prováveis Resultados, e se exatamente “n” desses resultados correspondem ao evento A, então a Probabilidade da ocorrência do evento A, denotada por P[A], será P[A] = n(A)/N\n",
    "\n",
    "◘ Eventos independentes: Na prática, dois eventos são independentes quando a ocorrência de um evento não influência a ocorrência do outro evento. Do ponto de visto probabilístico:\n",
    "\n",
    "<img src=\"independentes1.png\" width=20%>\n",
    "\n",
    "<img src=\"independentes.png\" width=20%>\n",
    "\n",
    "◘ Probabilidade Condicional: A probabilidade condicional acontece quando um evento interfere no outro. Tendo dois eventos A e B, a probabilidade de acontecer o evento A dado que o evento B aconteceu deve mudar. Isso porque o resultado de A é uma das possibilidades de B.\n",
    "Do ponto de vista probabilístico:\n",
    "<img src=\"condicional.png\" width=20%>"
   ]
  },
  {
   "cell_type": "markdown",
   "metadata": {},
   "source": [
    "## FUNÇÃO MASSA DE PROBABILIDADE"
   ]
  },
  {
   "cell_type": "markdown",
   "metadata": {},
   "source": [
    "◘ A função massa de probabilidade (fmp) é uma função que associa a cada possível ocorrência de uma variável aleatória discreta uma probabilidade.\n",
    "\n",
    "    • Variável Discreta: Seja X uma variável aleatória. Se o número de valores possíveis de X for enumerável (finito ou infinito), dizemos que X é uma variável aleatória discreta. Isto é, os possíveis valores de X podem ser postos em lista como x1,x2.\n",
    "    \n",
    "    • A função massa de probabilidades pode ser obtida através de uma distribuição de frequências. Para se obter as probabilidades através das frequências, nós às dividimos por n. Processo chamado de normalização.\n",
    "    \n",
    "    • Os PMFs funcionam bem se o número de valores for pequeno. Mas quando o número de valores aumenta, a probabilidade associada a cada valor diminui e o efeito de ruído aleatório aumenta.\n",
    "    \n",
    "    • Ao utilizar-se FMP para duas amostras distintas, pode ser difícil interpretar padrões gerais e as difirenças entre as amostras. \n",
    "    \n",
    "    • Para evidar esses probelmas, uma alternativa é a função acumulada de probabilidades (CDF)."
   ]
  },
  {
   "cell_type": "markdown",
   "metadata": {},
   "source": [
    "## FUNÇÃO ACUMULADA DE PROBABILIDADE"
   ]
  },
  {
   "cell_type": "raw",
   "metadata": {},
   "source": [
    "◘ Rank de Percentis: São medidas que dividem a amostra (por ordem crescente dos dados) em 100 partes, cada uma com uma percentagem de dados aproximadamente igual. O k-ésimo percentil Pk é o valor x (xk) que corresponde à frequência cumulativa de N .k/100, onde N é o tamanho amostral.\n",
    "\n",
    "    •O 1º percentil determina o 1% menor dos dados;\n",
    "    \n",
    "    •O 98º percentil determina os 98% menores dos dados;\n",
    "    \n",
    "    •O 25º percentil é o primeiro quartil; o 50º percentil é a mediana. De igual forma, o 10º percentil é o primeiro decil e o 80º percentil é o oitavo decil.\n",
    "   \n",
    "   •A diferença entre o 3º quartil (75º percentil) e o 1º quartil (25º percentil) é chamado de intervalor interquatil\n",
    "       \n",
    "    •O percentil, quartil, decil, são caracterizados como quantis, uma vez que correspondem à um rank de percentil igualmente espaçado entre si.\n",
    "    \n",
    "◘ Percentil: Pega um valor do ranke de percentis e calcula o valor correspondente.\n",
    "\n",
    "◘ Função Acumulada de Probabilidades (FAP): É uma função que mapeia os valores em um rank de percentis.\n",
    "    • Para calcular FAP(x), onde x é qualquer valor que pode aparecer na distribuição, nós cálculamos a fração dos valores na distribuição que são menores ou iguais a x.\n",
    "    • A função inversa da FAP é a função que mapeia a partir de uma probabiliadade acumulada,p, o valor correspondente."
   ]
  },
  {
   "cell_type": "markdown",
   "metadata": {},
   "source": [
    "## APLICAÇÕES"
   ]
  },
  {
   "cell_type": "code",
   "execution_count": 1,
   "metadata": {},
   "outputs": [
    {
     "name": "stdout",
     "output_type": "stream",
     "text": [
      "Séries com ano hidrológico igual\n"
     ]
    },
    {
     "data": {
      "text/html": [
       "<div>\n",
       "<style scoped>\n",
       "    .dataframe tbody tr th:only-of-type {\n",
       "        vertical-align: middle;\n",
       "    }\n",
       "\n",
       "    .dataframe tbody tr th {\n",
       "        vertical-align: top;\n",
       "    }\n",
       "\n",
       "    .dataframe thead th {\n",
       "        text-align: right;\n",
       "    }\n",
       "</style>\n",
       "<table border=\"1\" class=\"dataframe\">\n",
       "  <thead>\n",
       "    <tr style=\"text-align: right;\">\n",
       "      <th></th>\n",
       "      <th>00936010</th>\n",
       "      <th>00936041</th>\n",
       "    </tr>\n",
       "    <tr>\n",
       "      <th>Data</th>\n",
       "      <th></th>\n",
       "      <th></th>\n",
       "    </tr>\n",
       "  </thead>\n",
       "  <tbody>\n",
       "    <tr>\n",
       "      <th>1912-12-01</th>\n",
       "      <td>912.4</td>\n",
       "      <td>672.5</td>\n",
       "    </tr>\n",
       "    <tr>\n",
       "      <th>1913-12-01</th>\n",
       "      <td>2684.7</td>\n",
       "      <td>1403.4</td>\n",
       "    </tr>\n",
       "    <tr>\n",
       "      <th>1914-12-01</th>\n",
       "      <td>737.0</td>\n",
       "      <td>594.3</td>\n",
       "    </tr>\n",
       "    <tr>\n",
       "      <th>1915-12-01</th>\n",
       "      <td>1036.2</td>\n",
       "      <td>902.7</td>\n",
       "    </tr>\n",
       "    <tr>\n",
       "      <th>1916-12-01</th>\n",
       "      <td>1691.0</td>\n",
       "      <td>941.0</td>\n",
       "    </tr>\n",
       "  </tbody>\n",
       "</table>\n",
       "</div>"
      ],
      "text/plain": [
       "            00936010  00936041\n",
       "Data                          \n",
       "1912-12-01     912.4     672.5\n",
       "1913-12-01    2684.7    1403.4\n",
       "1914-12-01     737.0     594.3\n",
       "1915-12-01    1036.2     902.7\n",
       "1916-12-01    1691.0     941.0"
      ]
     },
     "execution_count": 1,
     "metadata": {},
     "output_type": "execute_result"
    }
   ],
   "source": [
    "import pandas as pd\n",
    "import numpy as np\n",
    "import seaborn as sns\n",
    "import calendar\n",
    "chuvas = pd.read_excel('Chuvas_Paraiba.xls',index_col='Data')\n",
    "media_mensal=chuvas.groupby(chuvas.index.month).mean()\n",
    "mes_menor_media=media_mensal['00936010'].idxmin()+1\n",
    "if mes_menor_media == media_mensal['00936041'].idxmin()+1:\n",
    "    print('Séries com ano hidrológico igual')\n",
    "mes_menor_media=calendar.month_abbr[mes_menor_media].upper()\n",
    "acumulado_anual=chuvas.groupby(pd.Grouper(freq='AS-'+mes_menor_media)).sum()\n",
    "acumulado_anual.head()"
   ]
  },
  {
   "cell_type": "code",
   "execution_count": 2,
   "metadata": {},
   "outputs": [
    {
     "data": {
      "text/plain": [
       "[(0, 3764.840510965205)]"
      ]
     },
     "execution_count": 2,
     "metadata": {},
     "output_type": "execute_result"
    },
    {
     "data": {
      "image/png": "[encoded data removed]",
      "text/plain": [
       "<Figure size 432x288 with 1 Axes>"
      ]
     },
     "metadata": {
      "needs_background": "light"
     },
     "output_type": "display_data"
    }
   ],
   "source": [
    "sns.distplot(acumulado_anual['00936010'], hist=True, kde=True,bins=10, color = 'darkblue',hist_kws={'edgecolor':'blue'},\n",
    "             kde_kws={'linewidth': 4}).set(xlim=(0))\n",
    "sns.distplot(acumulado_anual['00936041'], hist=True, kde=True,bins=13, color = 'darkred',hist_kws={'edgecolor':'red'},\n",
    "             kde_kws={'linewidth': 4}).set(xlim=(0))"
   ]
  },
  {
   "cell_type": "code",
   "execution_count": 3,
   "metadata": {},
   "outputs": [
    {
     "data": {
      "text/plain": [
       "[(0, 3764.840510965205)]"
      ]
     },
     "execution_count": 3,
     "metadata": {},
     "output_type": "execute_result"
    },
    {
     "data": {
      "image/png": "[encoded data removed]",
      "text/plain": [
       "<Figure size 432x288 with 1 Axes>"
      ]
     },
     "metadata": {
      "needs_background": "light"
     },
     "output_type": "display_data"
    }
   ],
   "source": [
    "sns.distplot(acumulado_anual['00936010'],hist_kws={'cumulative': True}, kde_kws={'cumulative': True})\n",
    "\n",
    "sns.distplot(acumulado_anual['00936010'], hist=True, kde=True,bins=10, color = 'darkblue',\n",
    "             hist_kws={'cumulative': True,'edgecolor':'blue'},\n",
    "             kde_kws={'cumulative': True,'linewidth': 4}).set(xlim=(0))\n",
    "sns.distplot(acumulado_anual['00936041'], hist=True, kde=True,bins=12, color = 'darkred',\n",
    "             hist_kws={'cumulative': True,'edgecolor':'red'},\n",
    "             kde_kws={'cumulative': True,'linewidth': 4}).set(xlim=(0))"
   ]
  },
  {
   "cell_type": "code",
   "execution_count": null,
   "metadata": {},
   "outputs": [],
   "source": []
  }
 ],
 "metadata": {
  "kernelspec": {
   "display_name": "Python 3",
   "language": "python",
   "name": "python3"
  },
  "language_info": {
   "codemirror_mode": {
    "name": "ipython",
    "version": 3
   },
   "file_extension": ".py",
   "mimetype": "text/x-python",
   "name": "python",
   "nbconvert_exporter": "python",
   "pygments_lexer": "ipython3",
   "version": "3.7.2"
  }
 },
 "nbformat": 4,
 "nbformat_minor": 2
}
