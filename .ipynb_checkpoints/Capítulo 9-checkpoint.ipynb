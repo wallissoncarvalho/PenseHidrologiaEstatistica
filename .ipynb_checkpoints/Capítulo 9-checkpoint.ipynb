{
 "cells": [
  {
   "cell_type": "markdown",
   "metadata": {},
   "source": [
    "# Teste a Hipóteses"
   ]
  },
  {
   "cell_type": "raw",
   "metadata": {},
   "source": [
    "• Avaliação probabilística,a partir de uma amostra, de quão razoável é assumir que uma determinada hipótese é verdadeira. A hipótese em questão é tipicamente chamada de hipótese nula.\n",
    "    ◘ O primeiro passo para quantificar o tamanho do efeito aparente é escolher um teste estatístico;\n",
    "    ◘ Em seguida, define-se a hispótese nula, que é a suposição de que o efeito aparente não é real;\n",
    "    ◘ Calcula-se o valor-p, que é a probabilidade de acontecer o efeito aparente se a hipótese nula for verdadeira;\n",
    "    ◘ Por fim, interpreta-se o resultado.\n",
    "\n",
    "• Se o valor-p é pequeno, é dito que o efeito é estatisticamente significante, o que quer dizer que é improvável que ocorreu ao acaso. Nesse caso, infere-se que é mais provável de aparecer na população maior.\n",
    "\n",
    "• Resumidamente: O teste de hipóteses assume temporarimanete que o efeito não é real. Essa é a hipótese nula. Baseado nessa premissa, calcula-se a probabilidade do efeito aparente. Esse é o valor-p. Se o valor-p é baixo, nós concluímos que a hipótese nula é improvável de ser verdadeira."
   ]
  },
  {
   "cell_type": "markdown",
   "metadata": {},
   "source": [
    "### O teste da Moeda"
   ]
  },
  {
   "cell_type": "markdown",
   "metadata": {},
   "source": [
    "• Supondo que nós jogamos uma moeda 250 vezes, e nós vemos 140 caras(H) e 110 coroas(T). Com base nesse resultado, podemos suspeitar que a moeda é enviesada; isto é, mais propenso a aparecer caras. Para testar essa hipótese, calculamos a probabilidade de ver tal diferença se a moeda for realmente sem viés. "
   ]
  },
  {
   "cell_type": "code",
   "execution_count": 4,
   "metadata": {},
   "outputs": [
    {
     "name": "stdout",
     "output_type": "stream",
     "text": [
      "O valor-p para o teste foi de 6.65\n"
     ]
    }
   ],
   "source": [
    "import random\n",
    "data = (140,110) #Número de vezes que apareceu cada uma (Caras,coroas)\n",
    "iters= 10000 #Número de iterações que queremos assumir\n",
    "def valorp(data,iters):\n",
    "    H,T=data\n",
    "    n=sum(data)\n",
    "    atual=abs(H-T)\n",
    "    def run_model(n):\n",
    "        sample=[random.choice('HT') for i in range(n)]\n",
    "        data=[sample.count('H'),sample.count('T')]\n",
    "        diff=abs(data[0]-data[1])\n",
    "        return diff\n",
    "    test=[run_model(n) for _ in range(iters)]\n",
    "    count=sum(1 for x in test if x>= atual)\n",
    "    valorp=count/iters*100\n",
    "    return valorp\n",
    "valor_p=valorp(data,iters)\n",
    "print('O valor-p para o teste foi de {}'.format(valor_p))"
   ]
  },
  {
   "cell_type": "raw",
   "metadata": {},
   "source": [
    "• Por convenção, adota-se um limiar de 5% para uma significância estatística. Se o valor-p for menor que 5%, o efeito é consideradoo significante, por outro lado, se for maior não é.\n",
    "\n",
    "• A escolha de 5% é arbitrária, uma vez que o valor-p depende do teste estatístico escolhido e do modelo da hipótese nula. Então, o vlaor-p não pode ser considerado como uma medição precisa."
   ]
  },
  {
   "cell_type": "markdown",
   "metadata": {},
   "source": [
    "### Permutação"
   ]
  },
  {
   "cell_type": "raw",
   "metadata": {},
   "source": [
    "• Se assumirmos que duas amostras tem distribuições idênticas, a técnica da permutação é muito indicada para testarmos uma hipótese nula. A técnica consiste em alguns passos:\n",
    "    ◘ Primeiro, concatena as duas amostras, já que elas assumem a mesma distribuição;\n",
    "    ◘ Em seguida embaralhas os dados aleatoriamente;\n",
    "    ◘ Cria-se novamente duas amostras de mesmo tamanho das amostras iniciais (chamadas de amostradas de permutação) com base nos dados embaralhados anteriormente;\n",
    "    ◘ Testa a hipótese com essas nova amostras repetidas vezes;\n",
    "    ◘ Calcula-se o valor-p;\n",
    "    ◘ Interpreta os resultados."
   ]
  },
  {
   "cell_type": "code",
   "execution_count": 6,
   "metadata": {},
   "outputs": [],
   "source": [
    "def permutation_sample(data1, data2):\n",
    "    \"\"\"Gerar amostras de permutação para duas dois conjuntos de dados\"\"\"\n",
    "\n",
    "    # Concatenate the data sets: data\n",
    "    data = np.concatenate((data1,data2))\n",
    "\n",
    "    # Permute the concatenated array: permuted_data\n",
    "    permuted_data = np.random.permutation(data)\n",
    "\n",
    "    # Split the permuted array into two: perm_sample_1, perm_sample_2\n",
    "    perm_sample_1 = permuted_data[:len(data1)]\n",
    "    perm_sample_2 = permuted_data[len(data1):]\n",
    "\n",
    "    return perm_sample_1, perm_sample_2"
   ]
  },
  {
   "cell_type": "raw",
   "metadata": {},
   "source": [
    "• Vamos, por exemplo, testar a permutação considerando a precipitação acumulada mensal em julho (um mês seco) e novembro (um mês úmido). Esperamos que estes possam ser distribuídos de forma diferente, por isso, vamos recolher amostras de permutação para ver como ficariam os seus ECDFs se fossem distribuídos de forma idêntica."
   ]
  },
  {
   "cell_type": "code",
   "execution_count": null,
   "metadata": {},
   "outputs": [],
   "source": [
    "#Vizualiando amostras de permutação\n",
    "niters=50\n",
    "for _ in range(niters):\n",
    "    # Gerando amostras de permutação\n",
    "    perm_sample_1, perm_sample_2 = permutation_sample(\n",
    "                                    rain_june, rain_november)\n",
    "\n",
    "    # Compute ECDFs\n",
    "    x_1, y_1 = ecdf(perm_sample_1)\n",
    "    x_2, y_2 = ecdf(perm_sample_2)\n",
    "\n",
    "    # Plot ECDFs da amostra de permutação\n",
    "    _ = plt.plot(x_1, y_1, marker='.', linestyle='none',\n",
    "                 color='red', alpha=0.02)\n",
    "    _ = plt.plot(x_2, y_2, marker='.', linestyle='none',\n",
    "                 color='blue', alpha=0.02)\n",
    "\n",
    "# Criar e plotar ECDFs dos dados orignais\n",
    "x_1, y_1 = ecdf(rain_june)\n",
    "x_2, y_2 = ecdf(rain_november)\n",
    "_ = plt.plot(x_1, y_1, marker='.', linestyle='none', color='red')\n",
    "_ = plt.plot(x_2, y_2, marker='.', linestyle='none', color='blue')\n",
    "\n",
    "# Label axes, set margin, and show plot\n",
    "plt.margins(0.02)\n",
    "_ = plt.xlabel('precipitação mensal (mm)')\n",
    "_ = plt.ylabel('ECDF')\n",
    "plt.show()"
   ]
  },
  {
   "cell_type": "markdown",
   "metadata": {},
   "source": [
    "<img src=\"Permutacao - Precipitacao mensal.svg\" width=60%>"
   ]
  },
  {
   "cell_type": "markdown",
   "metadata": {},
   "source": [
    "## Teste Estatístico"
   ]
  },
  {
   "cell_type": "raw",
   "metadata": {},
   "source": [
    "• Um único número que pode ser calculado a partir de dados observados e de dados que você simula sob a hipótese nula. Serve como base de comparação entre o que a hipótese nula prediz e o que realmente observamos.\n",
    "• O teste estatístico deve ser escolhido deve ser pertinente para tentar responder a hipótese em questão.\n",
    "• Com base na permutação, pode ser útil fazer uma função que retorna o teste estatístico."
   ]
  },
  {
   "cell_type": "code",
   "execution_count": 8,
   "metadata": {},
   "outputs": [],
   "source": [
    "def draw_perm_reps(data_1, data_2, func, size=1):\n",
    "    \"\"\"Gerar replicações de múltiplas permutações.\"\"\"\n",
    "\n",
    "    # Inicializar um array de replicações: perm_replicates\n",
    "    perm_replicates = np.empty(size)\n",
    "\n",
    "    for i in range(size):\n",
    "        # Gerar amostras de permutação\n",
    "        perm_sample_1, perm_sample_2 = permutation_sample(data_1, data_2)\n",
    "\n",
    "        # Calcular o teste estatístico\n",
    "        perm_replicates[i] = func(perm_sample_1, perm_sample_2)\n",
    "\n",
    "    return perm_replicates"
   ]
  },
  {
   "cell_type": "markdown",
   "metadata": {},
   "source": [
    "#### Diferença entre médias"
   ]
  },
  {
   "cell_type": "markdown",
   "metadata": {},
   "source": [
    "• Um dos testes estatísticos mais comuns é o teste da diferença de média entre dois conjuntos de dados.\n",
    "• Podemos utilizar a função de permutação para testar a diferença entre duas médias."
   ]
  },
  {
   "cell_type": "code",
   "execution_count": null,
   "metadata": {},
   "outputs": [],
   "source": [
    "def diff_of_means(data_1, data_2):\n",
    "    \"\"\"Diferença de média de dois arrays.\"\"\"\n",
    "    # A diferença de média de data_1, data_2: diff\n",
    "    diff = np.mean(data_1) - np.mean(data_2)\n",
    "    return diff\n",
    "\n",
    "# Calcular a diferença de média empirica\n",
    "empirical_diff_means = diff_of_means(rain_june, rain_july)\n",
    "\n",
    "# Fazer a permutação da diferença de médias 10000x : perm_replicates\n",
    "perm_replicates = draw_perm_reps(rain_june, rain_july,\n",
    "                                 diff_of_means, size=10000)\n",
    "\n",
    "# Calcular o valor-p: p\n",
    "p = np.sum(perm_replicates >= empirical_diff_means) / len(perm_replicates)\n",
    "\n",
    "# Gerar o resultado\n",
    "print('p-value =', p)"
   ]
  },
  {
   "cell_type": "markdown",
   "metadata": {},
   "source": [
    "• Valor p = 0.57, o que significa que nós esperamos ver uma diferença tão grande quanto a obserdava certa de 57% do tempo. Então este efeito não é estatisticamente significamente."
   ]
  }
 ],
 "metadata": {
  "kernelspec": {
   "display_name": "Python 3",
   "language": "python",
   "name": "python3"
  },
  "language_info": {
   "codemirror_mode": {
    "name": "ipython",
    "version": 3
   },
   "file_extension": ".py",
   "mimetype": "text/x-python",
   "name": "python",
   "nbconvert_exporter": "python",
   "pygments_lexer": "ipython3",
   "version": "3.7.2"
  }
 },
 "nbformat": 4,
 "nbformat_minor": 2
}
