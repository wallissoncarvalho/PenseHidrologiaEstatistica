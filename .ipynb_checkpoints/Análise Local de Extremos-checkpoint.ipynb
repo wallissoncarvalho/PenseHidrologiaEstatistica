{
 "cells": [
  {
   "cell_type": "code",
   "execution_count": 14,
   "metadata": {},
   "outputs": [],
   "source": [
    "from dados_hidroweb import converte_dados\n",
    "import datetime\n",
    "import pandas as pd\n",
    "import matplotlib.pyplot as plt\n",
    "import numpy as np\n",
    "import warnings\n",
    "import seaborn as sns\n",
    "import calendar\n",
    "sns.set()\n",
    "warnings.filterwarnings('ignore')"
   ]
  },
  {
   "cell_type": "raw",
   "metadata": {},
   "source": [
    "• Caso em questão:\n",
    "A estação 16100000 (CACHOEIRA MORENA) está a jusante da estação 16080000 (UHE Balbina - período de construção 1985-1989)"
   ]
  },
  {
   "cell_type": "code",
   "execution_count": 156,
   "metadata": {},
   "outputs": [],
   "source": [
    "dados=converte_dados('Dados')\n",
    "data_construcao=pd.to_datetime(['31/12/1984'])\n",
    "#dados=dados.loc[:data_construcao[0]]\n",
    "vazoes=dados[['16100000','16080000']]"
   ]
  },
  {
   "cell_type": "markdown",
   "metadata": {},
   "source": [
    "## Vazões Máximas e Mínimas Anuais"
   ]
  },
  {
   "cell_type": "code",
   "execution_count": 157,
   "metadata": {},
   "outputs": [],
   "source": [
    "def ano_hidrologico(vazoes,method):\n",
    "    media_mensal=vazoes.groupby(vazoes.index.month).mean()\n",
    "    mes_menor_media=calendar.month_abbr[media_mensal.idxmin()+1].upper()\n",
    "    frequencia='AS-'+mes_menor_media\n",
    "    if method == 'maximas':\n",
    "        serie=vazoes.groupby(pd.Grouper(freq=frequencia)).max().sort_index()\n",
    "    elif method == 'minimas':\n",
    "        serie=vazoes.groupby(pd.Grouper(freq=frequencia)).min().sort_index()\n",
    "    return serie"
   ]
  },
  {
   "cell_type": "code",
   "execution_count": 174,
   "metadata": {},
   "outputs": [
    {
     "data": {
      "text/plain": [
       "1972-12-01    1697.50\n",
       "1973-12-01    1774.00\n",
       "1974-12-01    1781.00\n",
       "1975-12-01    1803.75\n",
       "1976-12-01    1552.05\n",
       "1977-12-01    1517.50\n",
       "1978-12-01    1549.60\n",
       "1979-12-01    1006.25\n",
       "1980-12-01    1035.25\n",
       "1981-12-01    1679.00\n",
       "1982-12-01    1141.60\n",
       "1983-12-01    1181.50\n",
       "1984-12-01    1115.00\n",
       "1985-12-01    1527.50\n",
       "1986-12-01    1641.20\n",
       "1990-12-01    1458.20\n",
       "1991-12-01    1121.65\n",
       "1992-12-01    1492.50\n",
       "1993-12-01    1480.00\n",
       "1994-12-01    1409.15\n",
       "1995-12-01    1824.75\n",
       "1996-12-01    1544.70\n",
       "1997-12-01    1028.00\n",
       "1998-12-01    1409.15\n",
       "1999-12-01    2120.50\n",
       "2000-12-01    1201.45\n",
       "2001-12-01    1398.25\n",
       "2002-12-01    1248.00\n",
       "2003-12-01     895.75\n",
       "2004-12-01    1392.80\n",
       "2005-12-01    1392.80\n",
       "2006-12-01    1452.75\n",
       "2007-12-01    1475.40\n",
       "2008-12-01    1475.40\n",
       "2009-12-01    1340.25\n",
       "2010-12-01    1546.70\n",
       "2011-12-01    1042.50\n",
       "2012-12-01     734.35\n",
       "2013-12-01    1434.80\n",
       "2014-12-01    1181.50\n",
       "2015-12-01      80.86\n",
       "2016-12-01     491.80\n",
       "Name: 16100000, dtype: float64"
      ]
     },
     "execution_count": 174,
     "metadata": {},
     "output_type": "execute_result"
    }
   ],
   "source": [
    "maximas=ano_hidrologico(vazoes['16100000'],'maximas').dropna()\n",
    "maximas"
   ]
  },
  {
   "cell_type": "code",
   "execution_count": 175,
   "metadata": {},
   "outputs": [
    {
     "data": {
      "text/plain": [
       "1972-12-01    200.200\n",
       "1973-12-01    221.200\n",
       "1974-12-01    163.000\n",
       "1975-12-01     59.690\n",
       "1976-12-01     63.310\n",
       "1977-12-01     56.070\n",
       "1978-12-01     84.640\n",
       "1979-12-01     39.830\n",
       "1980-12-01     77.790\n",
       "1981-12-01     19.600\n",
       "1982-12-01     14.200\n",
       "1983-12-01    229.600\n",
       "1984-12-01     92.200\n",
       "1985-12-01    217.000\n",
       "1986-12-01    153.100\n",
       "1990-12-01    356.500\n",
       "1991-12-01     47.020\n",
       "1992-12-01     74.170\n",
       "1993-12-01    172.900\n",
       "1994-12-01     82.120\n",
       "1995-12-01    143.200\n",
       "1996-12-01    212.800\n",
       "1997-12-01     10.150\n",
       "1998-12-01     16.225\n",
       "1999-12-01    371.800\n",
       "2000-12-01    275.800\n",
       "2001-12-01    169.600\n",
       "2002-12-01    176.200\n",
       "2003-12-01    280.000\n",
       "2004-12-01    295.300\n",
       "2005-12-01    246.400\n",
       "2006-12-01    242.200\n",
       "2007-12-01    271.600\n",
       "2008-12-01    238.000\n",
       "2009-12-01    158.050\n",
       "2010-12-01    461.300\n",
       "2011-12-01     52.450\n",
       "2012-12-01      4.015\n",
       "2013-12-01     41.615\n",
       "2014-12-01     14.200\n",
       "2015-12-01      7.450\n",
       "2016-12-01     15.887\n",
       "Name: 16100000, dtype: float64"
      ]
     },
     "execution_count": 175,
     "metadata": {},
     "output_type": "execute_result"
    }
   ],
   "source": [
    "minimas=ano_hidrologico(vazoes['16100000'],'minimas').dropna()\n",
    "minimas"
   ]
  },
  {
   "cell_type": "markdown",
   "metadata": {},
   "source": [
    "### Função de Distribuição Acumulada Empírica (ECDF)"
   ]
  },
  {
   "cell_type": "raw",
   "metadata": {},
   "source": [
    "• Como uma alternativa as limitações anteriores, nós podemos calcular uma ECDF.\n",
    "• O valor x de uma ECDF é a variável de interesse. O valor y é a fração de dados que possuem um valor menor ou igual que o valor x correspondente.\n",
    "• O eixo x é o dado classificado. O eixo y é um ponto de dados uniformemente espaçado com um máximo.\n",
    "• Uma ECDF mostra todos os dados e fornece uma visão completa de como os dados estão distribuidos."
   ]
  },
  {
   "cell_type": "code",
   "execution_count": 162,
   "metadata": {},
   "outputs": [],
   "source": [
    "def ecdf(data):\n",
    "    \"\"\"Compute ECDF for a one-dimensional array of measurements.\"\"\"\n",
    "    # Number of data points: n\n",
    "    n = len(data)\n",
    "\n",
    "    # x-data for the ECDF: x\n",
    "    x = np.sort(data)\n",
    "\n",
    "    # y-data for the ECDF: y\n",
    "    y = np.arange(1,n+1) / n\n",
    "\n",
    "    return x, y"
   ]
  },
  {
   "cell_type": "markdown",
   "metadata": {},
   "source": [
    "## Distribuições Assintóticas de Valores Extremos"
   ]
  },
  {
   "cell_type": "raw",
   "metadata": {},
   "source": [
    "• Gumbel (1958) classificou as três formas assintóticas, que dependem do comportamento da causa da distribuição da variável orinal, para valores extremos, em:\n",
    "    • Tipo I  : A forma dupla exponencial\n",
    "    • Tipo II : A forma exponencial simples\n",
    "    • Tipo III: A forma exponencial com limite superior para máximos ou inferior para mínimos."
   ]
  },
  {
   "cell_type": "markdown",
   "metadata": {},
   "source": [
    "# Máximas"
   ]
  },
  {
   "cell_type": "markdown",
   "metadata": {},
   "source": [
    "### Distribuição GEV"
   ]
  },
  {
   "cell_type": "raw",
   "metadata": {},
   "source": [
    "Distribuição Generalizada de Valores Extremos\n",
    "• Distribuição recomendada para valores de máxima;\n",
    "• A GEV incorpora as distribuições dos 3 tipos citados acima, a depender do parâmetro de forma assumido;\n",
    "• Gumbel, Frechet, Weibull;\n",
    "• Estimador de Máxima Verossimilhança;\n",
    "• Estimador Momentos-L"
   ]
  },
  {
   "cell_type": "code",
   "execution_count": 228,
   "metadata": {},
   "outputs": [
    {
     "name": "stdout",
     "output_type": "stream",
     "text": [
      "Parâmetros encontrados: c=0.42, loc=1243.58, scale=398.27\n"
     ]
    }
   ],
   "source": [
    "from scipy.stats import genextreme as gev\n",
    "parameters = gev.fit(maximas,loc=maximas.mean(),scale=maximas.std())\n",
    "print('Parâmetros encontrados: c={}, loc={}, scale={}'\n",
    "      .format(round(parameters[0],2),round(parameters[1],2),round(parameters[2],2)))"
   ]
  },
  {
   "cell_type": "code",
   "execution_count": 236,
   "metadata": {},
   "outputs": [
    {
     "name": "stdout",
     "output_type": "stream",
     "text": [
      "Parâmetros encontrados: c=0.61, loc=1282.11, scale=390.92\n"
     ]
    }
   ],
   "source": [
    "from lmoments3 import distr\n",
    "lmom_parameter=distr.gev.lmom_fit(maximas)\n",
    "print('Parâmetros encontrados: c={}, loc={}, scale={}'\n",
    "      .format(round(lmom_parameter['c'],2),round(lmom_parameter['loc'],2),round(lmom_parameter['scale'],2)))"
   ]
  },
  {
   "cell_type": "code",
   "execution_count": 241,
   "metadata": {},
   "outputs": [
    {
     "data": {
      "image/png": "[encoded data removed]",
      "text/plain": [
       "<Figure size 432x288 with 1 Axes>"
      ]
     },
     "metadata": {},
     "output_type": "display_data"
    }
   ],
   "source": [
    "x_1, y_1 = ecdf(maximas)\n",
    "x_2 = np.linspace(0,2500,300)\n",
    "y_2 = gev.cdf(x_2, lmom_parameter['c'], lmom_parameter['loc'], lmom_parameter['scale'])\n",
    "y_3 = gev.cdf(x_2, parameters[0], parameters[1], parameters[2])\n",
    "# Generate plot\n",
    "_ = plt.plot(x_1, y_1, marker='.', linestyle = 'none')\n",
    "_ = plt.plot(x_2, y_2, marker=' ', linestyle = '-')\n",
    "_ = plt.plot(x_2, y_3, marker=' ', linestyle = '-')\n",
    "# Label the axes\n",
    "plt.legend(('Empírico', 'L-Moments','MVS'), loc='lower right')\n",
    "_ = plt.xlabel('Vazão (m³/s)')\n",
    "_ = plt.ylabel('CDF')\n",
    "\n",
    "# Display the plot\n",
    "plt.margins(0.02)\n",
    "plt.show()"
   ]
  },
  {
   "cell_type": "code",
   "execution_count": 248,
   "metadata": {},
   "outputs": [
    {
     "data": {
      "text/html": [
       "<div>\n",
       "<style scoped>\n",
       "    .dataframe tbody tr th:only-of-type {\n",
       "        vertical-align: middle;\n",
       "    }\n",
       "\n",
       "    .dataframe tbody tr th {\n",
       "        vertical-align: top;\n",
       "    }\n",
       "\n",
       "    .dataframe thead th {\n",
       "        text-align: right;\n",
       "    }\n",
       "</style>\n",
       "<table border=\"1\" class=\"dataframe\">\n",
       "  <thead>\n",
       "    <tr style=\"text-align: right;\">\n",
       "      <th></th>\n",
       "      <th>MagnitudeMVS (m³/s)</th>\n",
       "      <th>MagnitudeMML (m³/s)</th>\n",
       "    </tr>\n",
       "    <tr>\n",
       "      <th>Tempo de Retorno (anos)</th>\n",
       "      <th></th>\n",
       "      <th></th>\n",
       "    </tr>\n",
       "  </thead>\n",
       "  <tbody>\n",
       "    <tr>\n",
       "      <th>2</th>\n",
       "      <td>1378.95</td>\n",
       "      <td>1410.48</td>\n",
       "    </tr>\n",
       "    <tr>\n",
       "      <th>5</th>\n",
       "      <td>1687.79</td>\n",
       "      <td>1666.07</td>\n",
       "    </tr>\n",
       "    <tr>\n",
       "      <th>10</th>\n",
       "      <td>1825.18</td>\n",
       "      <td>1760.21</td>\n",
       "    </tr>\n",
       "    <tr>\n",
       "      <th>20</th>\n",
       "      <td>1922.17</td>\n",
       "      <td>1817.80</td>\n",
       "    </tr>\n",
       "    <tr>\n",
       "      <th>25</th>\n",
       "      <td>1947.34</td>\n",
       "      <td>1831.37</td>\n",
       "    </tr>\n",
       "    <tr>\n",
       "      <th>50</th>\n",
       "      <td>2011.39</td>\n",
       "      <td>1863.06</td>\n",
       "    </tr>\n",
       "    <tr>\n",
       "      <th>100</th>\n",
       "      <td>2058.87</td>\n",
       "      <td>1883.55</td>\n",
       "    </tr>\n",
       "  </tbody>\n",
       "</table>\n",
       "</div>"
      ],
      "text/plain": [
       "                         MagnitudeMVS (m³/s)  MagnitudeMML (m³/s)\n",
       "Tempo de Retorno (anos)                                          \n",
       "2                                    1378.95              1410.48\n",
       "5                                    1687.79              1666.07\n",
       "10                                   1825.18              1760.21\n",
       "20                                   1922.17              1817.80\n",
       "25                                   1947.34              1831.37\n",
       "50                                   2011.39              1863.06\n",
       "100                                  2058.87              1883.55"
      ]
     },
     "execution_count": 248,
     "metadata": {},
     "output_type": "execute_result"
    }
   ],
   "source": [
    "def creat_trs(fit,lmom):\n",
    "    def creat_tr(parameters,nome):\n",
    "        c,loc,scale=parameters\n",
    "        tr2=gev.ppf(0.5, c, loc, scale)\n",
    "        tr5=gev.ppf(0.8, c, loc, scale)\n",
    "        tr10=gev.ppf(0.9, c, loc, scale)\n",
    "        tr20=gev.ppf(0.95, c, loc, scale)\n",
    "        tr25=gev.ppf(0.96, c, loc, scale)\n",
    "        tr50=gev.ppf(0.98, c, loc, scale)\n",
    "        tr100=gev.ppf(0.99, c, loc, scale)\n",
    "        nome_coluna='Magnitude'+nome+' (m³/s)'\n",
    "        trs = {'Tempo de Retorno (anos)': [2,5,10,20,25,50,100], nome_coluna: [tr2,tr5,tr10,tr20,tr25,tr50,tr100]}\n",
    "        trs = pd.DataFrame(data=trs)\n",
    "        trs=trs.set_index('Tempo de Retorno (anos)')\n",
    "        return trs\n",
    "    tr_fit=creat_tr(fit,'MVS')\n",
    "    tr_lmom=creat_tr(lmom,'MML')\n",
    "    trs=pd.concat([tr_fit,tr_lmom],axis=1)\n",
    "    return trs\n",
    "tr_fit=creat_trs(parameters,[lmom_parameter['c'],lmom_parameter['loc'],lmom_parameter['scale']])\n",
    "tr_fit.round(2)"
   ]
  },
  {
   "cell_type": "markdown",
   "metadata": {},
   "source": [
    "# Weibull Max"
   ]
  },
  {
   "cell_type": "code",
   "execution_count": 225,
   "metadata": {},
   "outputs": [
    {
     "name": "stdout",
     "output_type": "stream",
     "text": [
      "Parâmetros encontrados: c=0.73, loc=2120.5, scale=320.64\n"
     ]
    }
   ],
   "source": [
    "from scipy.stats import weibull_max\n",
    "parametersw = weibull_max.fit(maximas,loc=maximas.mean(),scale=maximas.std())\n",
    "print('Parâmetros encontrados: c={}, loc={}, scale={}'\n",
    "      .format(round(parametersw[0],2),round(parametersw[1],2),round(parametersw[2],2)))"
   ]
  },
  {
   "cell_type": "code",
   "execution_count": 226,
   "metadata": {},
   "outputs": [
    {
     "data": {
      "image/png": "[encoded data removed]",
      "text/plain": [
       "<Figure size 432x288 with 1 Axes>"
      ]
     },
     "metadata": {},
     "output_type": "display_data"
    }
   ],
   "source": [
    "x_1, y_1 = ecdf(maximas)\n",
    "x_2 = np.linspace(0,2500,300)\n",
    "y_2 = weibull_max.cdf(x_2, parametersw[0], parametersw[1], parametersw[2])\n",
    "# Generate plot\n",
    "_ = plt.plot(x_1, y_1, marker='.', linestyle = 'none')\n",
    "_ = plt.plot(x_2, y_2, marker=' ', linestyle = '-')\n",
    "\n",
    "# Label the axes\n",
    "plt.legend(('Empírico', 'GEV'), loc='lower right')\n",
    "_ = plt.xlabel('Vazão (m³/s)')\n",
    "_ = plt.ylabel('CDF')\n",
    "\n",
    "# Display the plot\n",
    "plt.margins(0.02)\n",
    "plt.show()"
   ]
  },
  {
   "cell_type": "markdown",
   "metadata": {},
   "source": [
    "# Mínimas"
   ]
  },
  {
   "cell_type": "code",
   "execution_count": 249,
   "metadata": {},
   "outputs": [
    {
     "name": "stdout",
     "output_type": "stream",
     "text": [
      "Parâmetros encontrados: c=-0.14, loc=85.79, scale=83.19\n"
     ]
    }
   ],
   "source": [
    "parameters = gev.fit(minimas)\n",
    "print('Parâmetros encontrados: c={}, loc={}, scale={}'\n",
    "      .format(round(parameters[0],2),round(parameters[1],2),round(parameters[2],2)))"
   ]
  },
  {
   "cell_type": "code",
   "execution_count": 250,
   "metadata": {},
   "outputs": [
    {
     "name": "stdout",
     "output_type": "stream",
     "text": [
      "Parâmetros encontrados: c=0.02, loc=92.22, scale=95.83\n"
     ]
    }
   ],
   "source": [
    "from lmoments3 import distr\n",
    "lmom_parameter=distr.gev.lmom_fit(minimas)\n",
    "print('Parâmetros encontrados: c={}, loc={}, scale={}'\n",
    "      .format(round(lmom_parameter['c'],2),round(lmom_parameter['loc'],2),round(lmom_parameter['scale'],2)))"
   ]
  },
  {
   "cell_type": "code",
   "execution_count": 254,
   "metadata": {},
   "outputs": [
    {
     "data": {
      "image/png": "[encoded data removed]",
      "text/plain": [
       "<Figure size 432x288 with 1 Axes>"
      ]
     },
     "metadata": {},
     "output_type": "display_data"
    }
   ],
   "source": [
    "x_1, y_1 = ecdf(minimas)\n",
    "x_2 = np.linspace(0,500,300)\n",
    "y_2 = gev.cdf(x_2, lmom_parameter['c'], lmom_parameter['loc'], lmom_parameter['scale'])\n",
    "y_3 = gev.cdf(x_2, parameters[0], parameters[1], parameters[2])\n",
    "# Generate plot\n",
    "_ = plt.plot(x_1, y_1, marker='.', linestyle = 'none')\n",
    "_ = plt.plot(x_2, y_2, marker=' ', linestyle = '-')\n",
    "_ = plt.plot(x_2, y_3, marker=' ', linestyle = '-')\n",
    "# Label the axes\n",
    "plt.legend(('Empírico', 'L-Moments','MVS'), loc='lower right')\n",
    "_ = plt.xlabel('Vazão (m³/s)')\n",
    "_ = plt.ylabel('CDF')\n",
    "\n",
    "# Display the plot\n",
    "plt.margins(0.02)\n",
    "plt.show()"
   ]
  }
 ],
 "metadata": {
  "kernelspec": {
   "display_name": "Python 3",
   "language": "python",
   "name": "python3"
  },
  "language_info": {
   "codemirror_mode": {
    "name": "ipython",
    "version": 3
   },
   "file_extension": ".py",
   "mimetype": "text/x-python",
   "name": "python",
   "nbconvert_exporter": "python",
   "pygments_lexer": "ipython3",
   "version": "3.7.2"
  }
 },
 "nbformat": 4,
 "nbformat_minor": 2
}
