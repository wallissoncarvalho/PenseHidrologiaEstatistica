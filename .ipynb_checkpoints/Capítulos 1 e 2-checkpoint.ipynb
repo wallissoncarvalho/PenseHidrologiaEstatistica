{
 "cells": [
  {
   "cell_type": "markdown",
   "metadata": {},
   "source": [
    "# ESTATÍSTICA APLICADA - ANOTAÇÕES DE AULA\n",
    "## ABORDAGEM VOLTADA À HIDROLOGIA"
   ]
  },
  {
   "cell_type": "markdown",
   "metadata": {},
   "source": [
    "### CAPÍTULO 1 - ANÁLISE EXPLORATÓRIA DE DADOS"
   ]
  },
  {
   "cell_type": "markdown",
   "metadata": {},
   "source": [
    "#### CONCEITOS CHAVE:"
   ]
  },
  {
   "cell_type": "raw",
   "metadata": {},
   "source": [
    "◘ Evidência anedótica - Baseada em dados não publicados e, usualmente, pessoais.\n",
    "    • Esse tipo de abordagem é geralmente falho, uma vez que trazem um número pequeno de observações, apresentam viés de seleção dos dados e são muitas vezes inexatos."
   ]
  },
  {
   "cell_type": "raw",
   "metadata": {},
   "source": [
    "◘ Abordagem Estatística - São utilizados métodos para lidar com as incertezas e fornecer caminhos que auxiliem à tomada de decisões práticas.\n",
    "    • Os métodos estatísticos incluem a avaliação e quantificação das incertezas, realização de inferências baseadas em dados disponíveis, análises de frequência, e assim por diante.   \n",
    "    • No contexto da engenharia de recursos hídricos, os métodos estatísticos são inevitáveis, uma vez que as variáveis hidrológicas e hidroclimatológicas podem conter diversas fontes e tipos de incertezas associadas, principalmente, a sua variabilidade espacial e temporal.\n",
    "    • A maioria dos métodos estatísticos, se não todos, dependem, de algumas predefinições paramétricas de acordo com a natureza dos dados. Assim, torna-se essencial o uso de diferentes ferramentas estatísticas para extrair as informações dos dados. "
   ]
  },
  {
   "cell_type": "raw",
   "metadata": {},
   "source": [
    "◘ Ferramentas Estatísticas, incluem:\n",
    "    1. Coleta de dados: Deve ser projetada para atender o objetivo de gerar inferências estatísticamente válidas;\n",
    "    2. Estatística descritiva: Gerar estatísticas que resumam os dados de forma concisa, e avaliar diferentes formas de visualização dos dados;\n",
    "    3. Análise exploratória dos dados: Busca por pradrões, diferenças e outras características que respondam às questões em que estamos interessados, ao mesmo tempo em que são identificadas as inconsistências e limitações;\n",
    "    4. Estimação: Responder questões sobre uma determinada população a partir dos dados coletados de uma amostra;\n",
    "    5. Testes de hipótese: Identificar os efeitos aparentes, como a diferença/similiridade entre dois grupos. Avaliação de um determinado efeito a partir de uma chance."
   ]
  },
  {
   "cell_type": "markdown",
   "metadata": {},
   "source": [
    "◘ Estudos Estatísticos Transversais e Longitudinais:\n",
    "\n",
    "<img src=\"Transversal-Longitudinal.png\" width=40%>\n",
    "\n",
    "    •Os estudos transversais devem ser representativos, o que significa que cada membro da população-alvo deve ter uma chance igual de participar. "
   ]
  },
  {
   "cell_type": "raw",
   "metadata": {},
   "source": [
    "◘ Oversampling e Undersampling - Envolve a introdução de um viés para coletar-se mais dados de uma classe que de outra, com o objetivo de compensar um desequílibrio que já está presente nos dados."
   ]
  },
  {
   "cell_type": "markdown",
   "metadata": {},
   "source": [
    "#### APLICAÇÃO COM PYTHON:"
   ]
  },
  {
   "cell_type": "code",
   "execution_count": 1,
   "metadata": {},
   "outputs": [],
   "source": [
    "#IMPORTANDO BIBLIOTECAS\n",
    "import pandas as pd\n",
    "import numpy as np"
   ]
  },
  {
   "cell_type": "code",
   "execution_count": 2,
   "metadata": {},
   "outputs": [],
   "source": [
    "#GERANDO 5 séries sintéticas de precipitação mensal de 01/2000 até 12/2009\n",
    "precipitacoes=pd.DataFrame()\n",
    "for i in range(5):\n",
    "    media=80*(1+i/10)\n",
    "    std=60*(1-i/10)\n",
    "    serie=np.random.normal(loc=media,scale=std,size=120)\n",
    "    while serie.min()<0:\n",
    "        serie=np.random.normal(loc=media,scale=std,size=120)\n",
    "    serie=pd.DataFrame(serie,columns={'Serie '+str(i+1)}).round(2)\n",
    "    serie.index=pd.date_range(start='01/01/2000',periods=120,freq='MS')\n",
    "    precipitacoes=pd.concat([precipitacoes,serie],axis=1)"
   ]
  },
  {
   "cell_type": "code",
   "execution_count": 3,
   "metadata": {},
   "outputs": [
    {
     "data": {
      "text/html": [
       "<div>\n",
       "<style scoped>\n",
       "    .dataframe tbody tr th:only-of-type {\n",
       "        vertical-align: middle;\n",
       "    }\n",
       "\n",
       "    .dataframe tbody tr th {\n",
       "        vertical-align: top;\n",
       "    }\n",
       "\n",
       "    .dataframe thead th {\n",
       "        text-align: right;\n",
       "    }\n",
       "</style>\n",
       "<table border=\"1\" class=\"dataframe\">\n",
       "  <thead>\n",
       "    <tr style=\"text-align: right;\">\n",
       "      <th></th>\n",
       "      <th>Serie 1</th>\n",
       "      <th>Serie 2</th>\n",
       "      <th>Serie 3</th>\n",
       "      <th>Serie 4</th>\n",
       "      <th>Serie 5</th>\n",
       "    </tr>\n",
       "  </thead>\n",
       "  <tbody>\n",
       "    <tr>\n",
       "      <th>2000-01-01</th>\n",
       "      <td>97.21</td>\n",
       "      <td>100.39</td>\n",
       "      <td>79.29</td>\n",
       "      <td>135.55</td>\n",
       "      <td>89.73</td>\n",
       "    </tr>\n",
       "    <tr>\n",
       "      <th>2000-02-01</th>\n",
       "      <td>57.23</td>\n",
       "      <td>33.04</td>\n",
       "      <td>123.43</td>\n",
       "      <td>156.29</td>\n",
       "      <td>66.52</td>\n",
       "    </tr>\n",
       "    <tr>\n",
       "      <th>2000-03-01</th>\n",
       "      <td>50.19</td>\n",
       "      <td>118.65</td>\n",
       "      <td>81.76</td>\n",
       "      <td>188.75</td>\n",
       "      <td>152.96</td>\n",
       "    </tr>\n",
       "  </tbody>\n",
       "</table>\n",
       "</div>"
      ],
      "text/plain": [
       "            Serie 1  Serie 2  Serie 3  Serie 4  Serie 5\n",
       "2000-01-01    97.21   100.39    79.29   135.55    89.73\n",
       "2000-02-01    57.23    33.04   123.43   156.29    66.52\n",
       "2000-03-01    50.19   118.65    81.76   188.75   152.96"
      ]
     },
     "execution_count": 3,
     "metadata": {},
     "output_type": "execute_result"
    }
   ],
   "source": [
    "precipitacoes.head(n=3)"
   ]
  },
  {
   "cell_type": "code",
   "execution_count": 4,
   "metadata": {},
   "outputs": [
    {
     "name": "stdout",
     "output_type": "stream",
     "text": [
      "<class 'pandas.core.frame.DataFrame'>\n",
      "DatetimeIndex: 120 entries, 2000-01-01 to 2009-12-01\n",
      "Freq: MS\n",
      "Data columns (total 5 columns):\n",
      "Serie 1    120 non-null float64\n",
      "Serie 2    120 non-null float64\n",
      "Serie 3    120 non-null float64\n",
      "Serie 4    120 non-null float64\n",
      "Serie 5    120 non-null float64\n",
      "dtypes: float64(5)\n",
      "memory usage: 10.6 KB\n",
      "----\n",
      "O DataFrame apresenta 120 registros de precipitações mensais em 5 estações.\n"
     ]
    }
   ],
   "source": [
    "#VALIDAÇÃO\n",
    "precipitacoes.info() #Passa as informações gerais do DataFrame\n",
    "print('----')\n",
    "print('O DataFrame apresenta {} registros de precipitações mensais em {} estações.'\n",
    "      .format(precipitacoes.shape[0],precipitacoes.shape[1]))"
   ]
  },
  {
   "cell_type": "code",
   "execution_count": 5,
   "metadata": {},
   "outputs": [
    {
     "data": {
      "text/html": [
       "<div>\n",
       "<style scoped>\n",
       "    .dataframe tbody tr th:only-of-type {\n",
       "        vertical-align: middle;\n",
       "    }\n",
       "\n",
       "    .dataframe tbody tr th {\n",
       "        vertical-align: top;\n",
       "    }\n",
       "\n",
       "    .dataframe thead th {\n",
       "        text-align: right;\n",
       "    }\n",
       "</style>\n",
       "<table border=\"1\" class=\"dataframe\">\n",
       "  <thead>\n",
       "    <tr style=\"text-align: right;\">\n",
       "      <th></th>\n",
       "      <th>Serie 1</th>\n",
       "      <th>Serie 2</th>\n",
       "      <th>Serie 3</th>\n",
       "      <th>Serie 4</th>\n",
       "      <th>Serie 5</th>\n",
       "    </tr>\n",
       "  </thead>\n",
       "  <tbody>\n",
       "    <tr>\n",
       "      <th>count</th>\n",
       "      <td>120.00</td>\n",
       "      <td>120.00</td>\n",
       "      <td>120.00</td>\n",
       "      <td>120.00</td>\n",
       "      <td>120.00</td>\n",
       "    </tr>\n",
       "    <tr>\n",
       "      <th>mean</th>\n",
       "      <td>90.11</td>\n",
       "      <td>94.17</td>\n",
       "      <td>88.08</td>\n",
       "      <td>105.77</td>\n",
       "      <td>109.35</td>\n",
       "    </tr>\n",
       "    <tr>\n",
       "      <th>std</th>\n",
       "      <td>49.42</td>\n",
       "      <td>47.41</td>\n",
       "      <td>44.17</td>\n",
       "      <td>41.02</td>\n",
       "      <td>37.59</td>\n",
       "    </tr>\n",
       "    <tr>\n",
       "      <th>min</th>\n",
       "      <td>1.15</td>\n",
       "      <td>7.60</td>\n",
       "      <td>3.99</td>\n",
       "      <td>14.75</td>\n",
       "      <td>19.26</td>\n",
       "    </tr>\n",
       "    <tr>\n",
       "      <th>25%</th>\n",
       "      <td>57.03</td>\n",
       "      <td>57.90</td>\n",
       "      <td>55.40</td>\n",
       "      <td>78.15</td>\n",
       "      <td>78.25</td>\n",
       "    </tr>\n",
       "    <tr>\n",
       "      <th>50%</th>\n",
       "      <td>86.20</td>\n",
       "      <td>90.69</td>\n",
       "      <td>83.33</td>\n",
       "      <td>96.74</td>\n",
       "      <td>112.28</td>\n",
       "    </tr>\n",
       "    <tr>\n",
       "      <th>75%</th>\n",
       "      <td>120.34</td>\n",
       "      <td>122.81</td>\n",
       "      <td>113.87</td>\n",
       "      <td>133.94</td>\n",
       "      <td>138.88</td>\n",
       "    </tr>\n",
       "    <tr>\n",
       "      <th>max</th>\n",
       "      <td>235.97</td>\n",
       "      <td>211.39</td>\n",
       "      <td>198.02</td>\n",
       "      <td>208.06</td>\n",
       "      <td>188.37</td>\n",
       "    </tr>\n",
       "  </tbody>\n",
       "</table>\n",
       "</div>"
      ],
      "text/plain": [
       "       Serie 1  Serie 2  Serie 3  Serie 4  Serie 5\n",
       "count   120.00   120.00   120.00   120.00   120.00\n",
       "mean     90.11    94.17    88.08   105.77   109.35\n",
       "std      49.42    47.41    44.17    41.02    37.59\n",
       "min       1.15     7.60     3.99    14.75    19.26\n",
       "25%      57.03    57.90    55.40    78.15    78.25\n",
       "50%      86.20    90.69    83.33    96.74   112.28\n",
       "75%     120.34   122.81   113.87   133.94   138.88\n",
       "max     235.97   211.39   198.02   208.06   188.37"
      ]
     },
     "execution_count": 5,
     "metadata": {},
     "output_type": "execute_result"
    }
   ],
   "source": [
    "#Passa as estatísticas de média, desvio padrão, valor mínimo, percentis(q1,q2,q3) e valor máximo\n",
    "precipitacoes.describe().round(2)"
   ]
  },
  {
   "cell_type": "code",
   "execution_count": 6,
   "metadata": {},
   "outputs": [
    {
     "data": {
      "text/html": [
       "<div>\n",
       "<style scoped>\n",
       "    .dataframe tbody tr th:only-of-type {\n",
       "        vertical-align: middle;\n",
       "    }\n",
       "\n",
       "    .dataframe tbody tr th {\n",
       "        vertical-align: top;\n",
       "    }\n",
       "\n",
       "    .dataframe thead th {\n",
       "        text-align: right;\n",
       "    }\n",
       "</style>\n",
       "<table border=\"1\" class=\"dataframe\">\n",
       "  <thead>\n",
       "    <tr style=\"text-align: right;\">\n",
       "      <th></th>\n",
       "      <th>Serie 1</th>\n",
       "      <th>Serie 2</th>\n",
       "      <th>Serie 3</th>\n",
       "      <th>Serie 4</th>\n",
       "      <th>Serie 5</th>\n",
       "    </tr>\n",
       "  </thead>\n",
       "  <tbody>\n",
       "    <tr>\n",
       "      <th>Valor Mínimo</th>\n",
       "      <td>1.15</td>\n",
       "      <td>7.60</td>\n",
       "      <td>3.99</td>\n",
       "      <td>14.75</td>\n",
       "      <td>19.26</td>\n",
       "    </tr>\n",
       "    <tr>\n",
       "      <th>Valor Máximo</th>\n",
       "      <td>235.97</td>\n",
       "      <td>211.39</td>\n",
       "      <td>198.02</td>\n",
       "      <td>208.06</td>\n",
       "      <td>188.37</td>\n",
       "    </tr>\n",
       "  </tbody>\n",
       "</table>\n",
       "</div>"
      ],
      "text/plain": [
       "              Serie 1  Serie 2  Serie 3  Serie 4  Serie 5\n",
       "Valor Mínimo     1.15     7.60     3.99    14.75    19.26\n",
       "Valor Máximo   235.97   211.39   198.02   208.06   188.37"
      ]
     },
     "execution_count": 6,
     "metadata": {},
     "output_type": "execute_result"
    }
   ],
   "source": [
    "#Passa as estatísticas que o usuário tiver interesse\n",
    "precipitacoes.aggregate(['min','max']).rename(index = {'min':'Valor Mínimo','max':'Valor Máximo'})\n"
   ]
  },
  {
   "cell_type": "markdown",
   "metadata": {},
   "source": [
    "### CAPÍTULO 2 - DISTRIBUIÇÕES (HISTOGRAMAS E OUTROS GRÁFICOS)"
   ]
  },
  {
   "cell_type": "markdown",
   "metadata": {},
   "source": [
    "#### CONCEITOS CHAVE:"
   ]
  },
  {
   "cell_type": "raw",
   "metadata": {},
   "source": [
    "◘ Um dos melhores caminhos para descrever uma variável é relatar os valores que aparecem num conjunto de dados e quantas vezes cada valor aparece. A distribuição dos dados é uma das cinco características que são tipicamente mais importantes de um conjunto de dados.\n",
    "\n",
    "◘ Características dos dados\n",
    "    • 1. Centro: Um valor que representa onde é o meio dos conjuntos conjuntos.\n",
    "    • 2. Variação: Uma medida quantitativa que representa a variação do conjunto de dados.\n",
    "    • 3. Distribuição: A natureza ou forma de disperção dos dados em um intervalo de valores.\n",
    "    • 4. Outliers: Valores que estão muito longe da vasta maioria dos dados de um conjunto.\n",
    "    • 5. Tempo: Qualquer alteração nas características dos dados ao longo do tempo."
   ]
  },
  {
   "cell_type": "markdown",
   "metadata": {},
   "source": [
    "1. Centro: Se você tem uma amostra de n valores, a média é a soma dos valores dividido pelo número de valores.\n",
    "\n",
    "    • Algumas vezes a média é uma boa descrição de um conjunto de valores.\n",
    "    \n",
    "    • Mas algumas, quando os valores apresentam alta varição, a média pode passar uma informação não significativa."
   ]
  },
  {
   "cell_type": "markdown",
   "metadata": {},
   "source": [
    "2. Variação: \n",
    "\n",
    "    • A variância é uma medida de dispersão que mostra o quão distante cada valor desse conjunto está do valor central.Quanto menor é a variância, mais próximos os valores estão da média; mas quanto maior ela é, mais os valores estão distantes da média.\n",
    "    \n",
    "<img src=\"variancia.png\" width=25%>\n",
    "\n",
    "    • Além de expressar a variabilidade da população, o desvio padrão (S) é comumente usado para medir a confiança em cálculos estatísticos e geralmente permite sintetizar os resultados de uma experiência repetida várias vezes. Por exemplo, a margem de erro de um conjunto de dados é determinada pelo cálculo do desvio padrão."
   ]
  },
  {
   "cell_type": "markdown",
   "metadata": {},
   "source": [
    "3. Distribuição\n",
    "\n",
    "    • Histograma: O histograma, também conhecido como distribuição de frequências, é a representação gráfica em colunas ou em barras (retângulos) de um conjunto de dados previamente tabulado e dividido em classes uniformes ou não uniformes.A base de cada retângulo representa uma classe. A altura de cada retângulo representa a quantidade ou a frequência absoluta com que o valor da classe ocorre no conjunto de dados para classes uniformes ou a densidade de frequência para classes não uniformes."
   ]
  },
  {
   "cell_type": "markdown",
   "metadata": {},
   "source": [
    "4. Outliers:\n",
    "<img src=\"compressed_box-plot.png\" width=50%>"
   ]
  },
  {
   "cell_type": "markdown",
   "metadata": {},
   "source": [
    "#### APLICAÇÃO COM PYTHON:"
   ]
  },
  {
   "cell_type": "code",
   "execution_count": 7,
   "metadata": {},
   "outputs": [],
   "source": [
    "#IMPORTANDO BIBLIOTECAS\n",
    "import plotly \n",
    "plotly.tools.set_credentials_file(username='wallissoncarvalho', api_key='toc5tcSEmZT4biz0jT1m')\n",
    "import matplotlib.pyplot as plt\n",
    "import plotly.plotly as py\n",
    "import plotly.tools as tls\n",
    "import plotly.graph_objs as go"
   ]
  },
  {
   "cell_type": "raw",
   "metadata": {},
   "source": [
    "GRÁFICO DE BARRAS - Gráfico com barras retangulares e comprimento proporcional aos valores que ele representa. As barras podem ser desenhadas verticalmente ou horizontalmente. O gráfico de barras vertical as vezes é chamado de gráfico de colunas."
   ]
  },
  {
   "cell_type": "code",
   "execution_count": 8,
   "metadata": {},
   "outputs": [
    {
     "data": {
      "text/plain": [
       "2000-01-01    1191.39\n",
       "2001-01-01     701.39\n",
       "2002-01-01    1209.61\n",
       "2003-01-01    1028.06\n",
       "2004-01-01    1177.80\n",
       "2005-01-01    1305.49\n",
       "2006-01-01    1046.55\n",
       "2007-01-01    1068.79\n",
       "2008-01-01     821.76\n",
       "2009-01-01    1262.33\n",
       "Freq: 12MS, Name: Serie 1, dtype: float64"
      ]
     },
     "execution_count": 8,
     "metadata": {},
     "output_type": "execute_result"
    }
   ],
   "source": [
    "#SOMA DO TOTAL PRECIPITADO EM CADA ANO\n",
    "acumulado=precipitacoes.groupby(pd.Grouper(freq='12MS')).sum()\n",
    "acumulado['Serie 1']"
   ]
  },
  {
   "cell_type": "code",
   "execution_count": 9,
   "metadata": {},
   "outputs": [
    {
     "data": {
      "text/plain": [
       "Text(0, 0.5, 'Precipitação (mm/ano)')"
      ]
     },
     "execution_count": 9,
     "metadata": {},
     "output_type": "execute_result"
    },
    {
     "data": {
      "image/png": "[encoded data removed]",
      "text/plain": [
       "<Figure size 560x480 with 1 Axes>"
      ]
     },
     "metadata": {},
     "output_type": "display_data"
    }
   ],
   "source": [
    "#PLOTANDO O GRÁFICO DE BARRAS\n",
    "plt.figure(num=None, figsize=(7, 6), dpi=80, facecolor='w', edgecolor='k')\n",
    "plt.bar(acumulado.index,acumulado['Serie 1'], width=300,align='center')\n",
    "\n",
    "#PLOTANDO A MÉDIA DE LONGO PRAZO POR CIMA DO GRÁFICO DE BARRAS\n",
    "media=acumulado['Serie 1'].mean()\n",
    "xmin=list(acumulado.index)[0]\n",
    "xmax=list(acumulado.index)[-1]\n",
    "plt.hlines(y=media,xmin=xmin,xmax=xmax,linewidth=2,color='r',linestyle='dashed')\n",
    "plt.legend(('Média','Acumulado/ano'), loc='upper right')\n",
    "plt.xlabel('Tempo (anos)',fontsize=12)\n",
    "plt.ylabel('Precipitação (mm/ano)',fontsize=12)"
   ]
  },
  {
   "cell_type": "raw",
   "metadata": {},
   "source": [
    "HISTOGRAMA"
   ]
  },
  {
   "cell_type": "code",
   "execution_count": 29,
   "metadata": {},
   "outputs": [
    {
     "name": "stderr",
     "output_type": "stream",
     "text": [
      "C:\\ProgramData\\Anaconda3\\lib\\site-packages\\IPython\\core\\display.py:689: UserWarning:\n",
      "\n",
      "Consider using IPython.display.IFrame instead\n",
      "\n"
     ]
    },
    {
     "data": {
      "text/html": [
       "<iframe id=\"igraph\" scrolling=\"no\" style=\"border:none;\" seamless=\"seamless\" src=\"https://plot.ly/~wallissoncarvalho/20.embed\" height=\"288px\" width=\"432px\"></iframe>"
      ],
      "text/plain": [
       "<plotly.tools.PlotlyDisplay object>"
      ]
     },
     "execution_count": 29,
     "metadata": {},
     "output_type": "execute_result"
    }
   ],
   "source": [
    "fig = plt.figure()\n",
    "table=plt.hist(precipitacoes['Serie 1'])\n",
    "plt.title(\"Hidrograma\")\n",
    "plt.xlabel(\"Valores\")\n",
    "plt.ylabel(\"Frequencia\")\n",
    "plotly_fig = tls.mpl_to_plotly( fig )\n",
    "py.iplot(plotly_fig, filename='histogram-mpl-legend')"
   ]
  },
  {
   "cell_type": "raw",
   "metadata": {},
   "source": [
    "BOXPLOT"
   ]
  },
  {
   "cell_type": "code",
   "execution_count": 12,
   "metadata": {},
   "outputs": [
    {
     "data": {
      "text/html": [
       "<div>\n",
       "<style scoped>\n",
       "    .dataframe tbody tr th:only-of-type {\n",
       "        vertical-align: middle;\n",
       "    }\n",
       "\n",
       "    .dataframe tbody tr th {\n",
       "        vertical-align: top;\n",
       "    }\n",
       "\n",
       "    .dataframe thead th {\n",
       "        text-align: right;\n",
       "    }\n",
       "</style>\n",
       "<table border=\"1\" class=\"dataframe\">\n",
       "  <thead>\n",
       "    <tr style=\"text-align: right;\">\n",
       "      <th></th>\n",
       "      <th>Serie 1</th>\n",
       "      <th>Serie 2</th>\n",
       "      <th>Serie 3</th>\n",
       "      <th>Serie 4</th>\n",
       "      <th>Serie 5</th>\n",
       "    </tr>\n",
       "  </thead>\n",
       "  <tbody>\n",
       "    <tr>\n",
       "      <th>LI</th>\n",
       "      <td>0.00</td>\n",
       "      <td>0.00</td>\n",
       "      <td>0.00</td>\n",
       "      <td>0.00</td>\n",
       "      <td>0.00</td>\n",
       "    </tr>\n",
       "    <tr>\n",
       "      <th>0.25</th>\n",
       "      <td>57.03</td>\n",
       "      <td>57.90</td>\n",
       "      <td>55.40</td>\n",
       "      <td>78.15</td>\n",
       "      <td>78.25</td>\n",
       "    </tr>\n",
       "    <tr>\n",
       "      <th>0.50</th>\n",
       "      <td>86.20</td>\n",
       "      <td>90.69</td>\n",
       "      <td>83.33</td>\n",
       "      <td>96.74</td>\n",
       "      <td>112.28</td>\n",
       "    </tr>\n",
       "    <tr>\n",
       "      <th>0.75</th>\n",
       "      <td>120.34</td>\n",
       "      <td>122.81</td>\n",
       "      <td>113.87</td>\n",
       "      <td>133.94</td>\n",
       "      <td>138.88</td>\n",
       "    </tr>\n",
       "    <tr>\n",
       "      <th>LS</th>\n",
       "      <td>215.29</td>\n",
       "      <td>220.18</td>\n",
       "      <td>201.57</td>\n",
       "      <td>217.62</td>\n",
       "      <td>229.84</td>\n",
       "    </tr>\n",
       "    <tr>\n",
       "      <th>IIQ</th>\n",
       "      <td>63.31</td>\n",
       "      <td>64.91</td>\n",
       "      <td>58.47</td>\n",
       "      <td>55.79</td>\n",
       "      <td>60.63</td>\n",
       "    </tr>\n",
       "  </tbody>\n",
       "</table>\n",
       "</div>"
      ],
      "text/plain": [
       "      Serie 1  Serie 2  Serie 3  Serie 4  Serie 5\n",
       "LI       0.00     0.00     0.00     0.00     0.00\n",
       "0.25    57.03    57.90    55.40    78.15    78.25\n",
       "0.50    86.20    90.69    83.33    96.74   112.28\n",
       "0.75   120.34   122.81   113.87   133.94   138.88\n",
       "LS     215.29   220.18   201.57   217.62   229.84\n",
       "IIQ     63.31    64.91    58.47    55.79    60.63"
      ]
     },
     "execution_count": 12,
     "metadata": {},
     "output_type": "execute_result"
    }
   ],
   "source": [
    "#CÁLCULO NA \"MÃO\"\n",
    "Q1=precipitacoes.quantile(.25).round(2)\n",
    "Q2=precipitacoes.quantile(.50)\n",
    "Q3=precipitacoes.quantile(.75)\n",
    "\n",
    "IIQ=Q3-Q1 #Intervalo interquartil\n",
    "limite_inferior = Q1 - 1.5*IIQ\n",
    "def limite(x):\n",
    "    if x<0:\n",
    "        x=0\n",
    "    return x\n",
    "limite_inferior=limite_inferior.apply(limite)\n",
    "limite_superior = Q3 + 1.5*IIQ\n",
    "Box_Plot=pd.DataFrame([limite_inferior,Q1,Q2,Q3,limite_superior,IIQ]).round(2)\n",
    "Box_Plot.index=['LI','0.25','0.50','0.75','LS','IIQ']\n",
    "Box_Plot"
   ]
  },
  {
   "cell_type": "code",
   "execution_count": 13,
   "metadata": {},
   "outputs": [
    {
     "data": {
      "text/html": [
       "<iframe id=\"igraph\" scrolling=\"no\" style=\"border:none;\" seamless=\"seamless\" src=\"https://plot.ly/~wallissoncarvalho/34.embed\" height=\"525px\" width=\"100%\"></iframe>"
      ],
      "text/plain": [
       "<plotly.tools.PlotlyDisplay object>"
      ]
     },
     "execution_count": 13,
     "metadata": {},
     "output_type": "execute_result"
    }
   ],
   "source": [
    "#PLOTANDO\n",
    "box = []\n",
    "for name in precipitacoes.columns:\n",
    "    Serie=go.Box(y=precipitacoes[name],name=name)\n",
    "    box.append(Serie)\n",
    "py.iplot(box)"
   ]
  }
 ],
 "metadata": {
  "kernelspec": {
   "display_name": "Python 3",
   "language": "python",
   "name": "python3"
  },
  "language_info": {
   "codemirror_mode": {
    "name": "ipython",
    "version": 3
   },
   "file_extension": ".py",
   "mimetype": "text/x-python",
   "name": "python",
   "nbconvert_exporter": "python",
   "pygments_lexer": "ipython3",
   "version": "3.7.2"
  }
 },
 "nbformat": 4,
 "nbformat_minor": 2
}
